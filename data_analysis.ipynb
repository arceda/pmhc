{
 "cells": [
  {
   "attachments": {},
   "cell_type": "markdown",
   "metadata": {},
   "source": [
    "Analisis de los tamaños de los petido y MHC, con el objetivo de definir un tamaño maximo y hacer padding"
   ]
  },
  {
   "cell_type": "code",
   "execution_count": 4,
   "metadata": {},
   "outputs": [
    {
     "name": "stdout",
     "output_type": "stream",
     "text": [
      "TRAIN\n",
      "max peptide length 37\n",
      "min peptide length 9\n",
      "mean peptide length 15.313720551257678\n",
      "max MHC length 34\n",
      "min MHC length 34\n",
      "\n",
      "TEST\n",
      "max peptide length 37\n",
      "min peptide length 9\n",
      "max MHC length 34\n",
      "min MHC length 34\n",
      "\n",
      "VAL\n",
      "max peptide length 37\n",
      "min peptide length 9\n",
      "max MHC length 34\n",
      "min MHC length 34\n"
     ]
    }
   ],
   "source": [
    "import pandas as pd\n",
    "\n",
    "data = pd.read_csv('../dataset/netMHCIIpan3.2/train.csv')\n",
    "#print(data)\n",
    "\n",
    "print(\"TRAIN\")\n",
    "print(f\"max peptide length {data.peptide.str.len().max()}\")\n",
    "print(f\"min peptide length {data.peptide.str.len().min()}\")\n",
    "print(f\"mean peptide length {data.peptide.str.len().mean()}\")\n",
    "print(f\"max MHC length {data.mhc.str.len().max()}\")\n",
    "print(f\"min MHC length {data.mhc.str.len().min()}\")\n",
    "\n",
    "\n",
    "data = pd.read_csv('../dataset/netMHCIIpan3.2/test.csv')\n",
    "#print(data)\n",
    "\n",
    "print(\"\\nTEST\")\n",
    "print(f\"max peptide length {data.peptide.str.len().max()}\")\n",
    "print(f\"min peptide length {data.peptide.str.len().min()}\")\n",
    "print(f\"max MHC length {data.mhc.str.len().max()}\")\n",
    "print(f\"min MHC length {data.mhc.str.len().min()}\")\n",
    "\n",
    "\n",
    "data = pd.read_csv('../dataset/netMHCIIpan3.2/eval.csv')\n",
    "#print(data)\n",
    "\n",
    "print(\"\\nVAL\")\n",
    "print(f\"max peptide length {data.peptide.str.len().max()}\")\n",
    "print(f\"min peptide length {data.peptide.str.len().min()}\")\n",
    "print(f\"max MHC length {data.mhc.str.len().max()}\")\n",
    "print(f\"min MHC length {data.mhc.str.len().min()}\")"
   ]
  },
  {
   "cell_type": "code",
   "execution_count": 1,
   "metadata": {},
   "outputs": [
    {
     "name": "stdout",
     "output_type": "stream",
     "text": [
      "TRAIN\n",
      "max peptide length 14\n",
      "min peptide length 8\n",
      "mean peptide length 9.462156250521781\n",
      "max MHC length 34\n",
      "min MHC length 34\n",
      "\n",
      "TEST\n",
      "max peptide length 14\n",
      "min peptide length 8\n",
      "max MHC length 34\n",
      "min MHC length 34\n",
      "\n",
      "VAL\n",
      "max peptide length 14\n",
      "min peptide length 8\n",
      "max MHC length 34\n",
      "min MHC length 34\n"
     ]
    }
   ],
   "source": [
    "import pandas as pd\n",
    "\n",
    "data = pd.read_csv('dataset/hlab/hlab_train.csv')\n",
    "#print(data)\n",
    "\n",
    "print(\"TRAIN\")\n",
    "print(f\"max peptide length {data.peptide.str.len().max()}\")\n",
    "print(f\"min peptide length {data.peptide.str.len().min()}\")\n",
    "print(f\"mean peptide length {data.peptide.str.len().mean()}\")\n",
    "print(f\"max MHC length {data.mhc.str.len().max()}\")\n",
    "print(f\"min MHC length {data.mhc.str.len().min()}\")\n",
    "\n",
    "\n",
    "data = pd.read_csv('dataset/hlab/hlab_test.csv')\n",
    "#print(data)\n",
    "\n",
    "print(\"\\nTEST\")\n",
    "print(f\"max peptide length {data.peptide.str.len().max()}\")\n",
    "print(f\"min peptide length {data.peptide.str.len().min()}\")\n",
    "print(f\"max MHC length {data.mhc.str.len().max()}\")\n",
    "print(f\"min MHC length {data.mhc.str.len().min()}\")\n",
    "\n",
    "\n",
    "data = pd.read_csv('dataset/hlab/hlab_val.csv')\n",
    "#print(data)\n",
    "\n",
    "print(\"\\nVAL\")\n",
    "print(f\"max peptide length {data.peptide.str.len().max()}\")\n",
    "print(f\"min peptide length {data.peptide.str.len().min()}\")\n",
    "print(f\"max MHC length {data.mhc.str.len().max()}\")\n",
    "print(f\"min MHC length {data.mhc.str.len().min()}\")"
   ]
  },
  {
   "attachments": {},
   "cell_type": "markdown",
   "metadata": {},
   "source": [
    "# Predictions netMHCpan4.1"
   ]
  },
  {
   "cell_type": "code",
   "execution_count": 46,
   "metadata": {},
   "outputs": [
    {
     "name": "stdout",
     "output_type": "stream",
     "text": [
      "HLA: HLA-A*01:01\n",
      "cd netMHCpan-4.1/test; tcsh ../netMHCpan.sh -a HLA-A01:01 -p tmp_peptides.pep -hlapseudo /home/vicente/projects/pmhc/dataset/hlab/MHC_pseudo.dat > tmp_results_netMHCpan4.1\n"
     ]
    }
   ],
   "source": [
    "import pandas as pd\n",
    "import os\n",
    "\n",
    "data = pd.read_csv('dataset/hlab/hlab_test.csv')\n",
    "hla_list = data.HLA.unique()\n",
    "data = data.sort_values(by=['HLA'], ascending=True)\n",
    "data = data.set_index(['HLA'])\n",
    "#print( data)\n",
    "#print(data.loc[\"HLA-A*01:01\"][\"mhc\"])\n",
    "#print(data.loc[hla][\"peptide\"])\n",
    "\n",
    "for hla in hla_list:\n",
    "    # peptides\n",
    "    hla_peptide = data.loc[hla][\"peptide\"]\n",
    "    print(\"HLA:\", hla)    \n",
    "\n",
    "    # save peptides\n",
    "    hla_peptide.to_csv(\"netMHCpan-4.1/test/tmp_peptides.pep\", index=False, header=False)\n",
    "\n",
    "    #cmd = \"cd netMHCpan-4.1/test; tcsh ../netMHCpan.sh -a \" + hla.replace(\"*\", \"\") + \" -p tmp_peptides.pep -hlapseudo /home/vicente/projects/pmhc/dataset/hlab/MHC_pseudo.dat > tmp_results_netMHCpan4.1\"\n",
    "    cmd = \"tcsh netMHCpan-4.1/netMHCpan.sh -a \" + hla.replace(\"*\", \"\") + \" -p tmp_peptides.pep -hlapseudo /home/vicente/projects/pmhc/dataset/hlab/MHC_pseudo.dat -xls tmp_results.xls\"\n",
    "    print(cmd)\n",
    "    os.system(cmd)\n",
    "    break"
   ]
  }
 ],
 "metadata": {
  "kernelspec": {
   "display_name": "torch11",
   "language": "python",
   "name": "python3"
  },
  "language_info": {
   "codemirror_mode": {
    "name": "ipython",
    "version": 3
   },
   "file_extension": ".py",
   "mimetype": "text/x-python",
   "name": "python",
   "nbconvert_exporter": "python",
   "pygments_lexer": "ipython3",
   "version": "3.8.13"
  },
  "orig_nbformat": 4
 },
 "nbformat": 4,
 "nbformat_minor": 2
}
