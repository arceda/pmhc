{
 "cells": [
  {
   "attachments": {},
   "cell_type": "markdown",
   "metadata": {},
   "source": [
    "# ESM2 comparison"
   ]
  },
  {
   "attachments": {},
   "cell_type": "markdown",
   "metadata": {},
   "source": [
    "Hacemos una comparación de los modelos ESM2: t6, t12, t30 y t33"
   ]
  },
  {
   "cell_type": "code",
   "execution_count": 1,
   "metadata": {},
   "outputs": [],
   "source": [
    "import pandas as pd\n",
    "import numpy as np\n",
    "\n",
    "esm2_t6 = pd.read_csv(\"esm2_t6_rnn.csv\")\n",
    "\n",
    "esm2_t6 = pd.read_csv(\"esm2_t6_rnn.csv\")\n",
    "esm2_t6_gas = pd.read_csv(\"esm2_t6_rnn_acc_steps.csv\")\n",
    "esm2_t6_fz = pd.read_csv(\"esm2_t6_rnn_freeze.csv\")\n",
    "esm2_t6_gas_fz = pd.read_csv(\"esm2_t6_rnn_freeze_acc_steps.csv\")\n",
    "\n",
    "esm2_t6[]\n",
    "\n",
    "data['prob_0'] = data.apply(lambda row: ( softmax([row[0], row[1]])[0] ), axis=1)\n",
    "data['prob_1'] = data.apply(lambda row: ( softmax([row[0], row[1]])[1] ), axis=1)\n"
   ]
  }
 ],
 "metadata": {
  "kernelspec": {
   "display_name": "torch11",
   "language": "python",
   "name": "python3"
  },
  "language_info": {
   "codemirror_mode": {
    "name": "ipython",
    "version": 3
   },
   "file_extension": ".py",
   "mimetype": "text/x-python",
   "name": "python",
   "nbconvert_exporter": "python",
   "pygments_lexer": "ipython3",
   "version": "3.9.16"
  },
  "orig_nbformat": 4
 },
 "nbformat": 4,
 "nbformat_minor": 2
}
