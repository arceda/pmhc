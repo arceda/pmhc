{
 "cells": [
  {
   "cell_type": "code",
   "execution_count": 15,
   "metadata": {},
   "outputs": [
    {
     "name": "stdout",
     "output_type": "stream",
     "text": [
      "   id          HLA   peptide  Label  Length  \\\n",
      "0   1  HLA-A*01:01  LFGRDLSY      1       8   \n",
      "1   2  HLA-A*01:01  TDKKTHLY      1       8   \n",
      "2   3  HLA-A*01:01  RSDTPLIY      1       8   \n",
      "\n",
      "                                  mhc  anthem_pred  anthem_prob  esm2t6_pred  \\\n",
      "0  YFAMYQENMAHTDANTLYIIYRDYTWVARVYRGY            0        0.819            1   \n",
      "1  YFAMYQENMAHTDANTLYIIYRDYTWVARVYRGY            1        0.999            1   \n",
      "2  YFAMYQENMAHTDANTLYIIYRDYTWVARVYRGY            1        0.999            1   \n",
      "\n",
      "   esm2t6_prob  tape_pred  tape_prob  netmhcpan4.1_prob  netmhcpan4.1_rank  \\\n",
      "0     0.974380          1   0.876145           0.016228              3.731   \n",
      "1     0.998730          1   0.997400           0.938144              0.036   \n",
      "2     0.999896          1   0.996318           0.678749              0.165   \n",
      "\n",
      "  netmhcpan4.1_ligand  netmhcpan4.1_pred_SB_WB  netmhcpan4.1_pred_SB  \n",
      "0                   -                        0                     0  \n",
      "1                  SB                        1                     1  \n",
      "2                  SB                        1                     1  \n"
     ]
    }
   ],
   "source": [
    "# lee el csv con todas las predicciones y obtiene métricas\n",
    "import pandas as pd\n",
    "import numpy as np\n",
    "\n",
    "data = pd.read_csv(\"predictions_full.csv\")\n",
    "#data['netmhcpan4.1_pred_SB'] = data.apply(lambda row: (  1 if row['netmhcpan4.1_ligand'] == \"SB\" else 0  ), axis=1)\n",
    "#data.to_csv(\"predictions2.csv\", index=False)\n",
    "print(data.head(3))"
   ]
  },
  {
   "cell_type": "code",
   "execution_count": 16,
   "metadata": {},
   "outputs": [
    {
     "name": "stdout",
     "output_type": "stream",
     "text": [
      "{'accuracy': 0.8811044153436087, 'precision': 0.9786196932327316, 'recall': 0.7787248867727325, 'f1score': 0.8673034514424663, 'auc': 0.8808912973241482, 'conf_matrix': array([[85005,  1465],\n",
      "       [19054, 67056]])}\n",
      "{'accuracy': 0.8312492756982269, 'precision': 0.9844103296441747, 'recall': 0.6724422250609685, 'f1score': 0.7990561025591488, 'auc': 0.8309186955072392, 'conf_matrix': array([[85553,   917],\n",
      "       [28206, 57904]])}\n",
      "{'accuracy': 0.9414822111484529, 'precision': 0.9352389459580169, 'recall': 0.9483915921495761, 'f1score': 0.9417693491936274, 'auc': 0.9414965940394, 'conf_matrix': array([[80815,  5655],\n",
      "       [ 4444, 81666]])}\n",
      "{'accuracy': 0.9401089349866728, 'precision': 0.9398305084745763, 'recall': 0.9401579375217745, 'f1score': 0.9399941944847605, 'auc': 0.9401090369926439, 'conf_matrix': array([[81287,  5183],\n",
      "       [ 5153, 80957]])}\n"
     ]
    }
   ],
   "source": [
    "from sklearn.metrics import (\n",
    "    confusion_matrix,\n",
    "    accuracy_score,\n",
    "    precision_score,\n",
    "    recall_score,\n",
    "    f1_score\n",
    ")\n",
    "from sklearn.metrics import roc_auc_score\n",
    "\n",
    "def get_metrics(y_test, y_test_predictions):\n",
    "    accuracy = accuracy_score(y_test, y_test_predictions)\n",
    "    precision = precision_score(y_test, y_test_predictions)\n",
    "    recall = recall_score(y_test, y_test_predictions)\n",
    "    f1score = f1_score(y_test, y_test_predictions)\n",
    "    auc = roc_auc_score(y_test, y_test_predictions)\n",
    "    conf_matrix = confusion_matrix(y_test, y_test_predictions)\n",
    "\n",
    "    return {    \"accuracy\":accuracy, \n",
    "                \"precision\":precision, \n",
    "                \"recall\":recall, \n",
    "                \"f1score\":f1score, \n",
    "                \"auc\":auc, \n",
    "                \"conf_matrix\":conf_matrix}\n",
    "\n",
    "\n",
    "metrics_anthem = get_metrics(data[\"Label\"], data[\"anthem_pred\"])\n",
    "metrics_netmhcpan = get_metrics(data[\"Label\"], data[\"netmhcpan4.1_pred_SB\"])\n",
    "metrics_tape = get_metrics(data[\"Label\"], data[\"tape_pred\"])\n",
    "metrics_esm2t6 = get_metrics(data[\"Label\"], data[\"esm2t6_pred\"])\n",
    "print(metrics_anthem)\n",
    "print(metrics_netmhcpan)\n",
    "print(metrics_tape)\n",
    "print(metrics_esm2t6)\n"
   ]
  },
  {
   "cell_type": "code",
   "execution_count": 16,
   "metadata": {},
   "outputs": [
    {
     "data": {
      "text/plain": [
       "<Figure size 640x480 with 0 Axes>"
      ]
     },
     "metadata": {},
     "output_type": "display_data"
    }
   ],
   "source": [
    "from sklearn import metrics\n",
    "from sklearn.linear_model import LogisticRegression\n",
    "from sklearn.model_selection import train_test_split\n",
    "from sklearn.datasets import load_breast_cancer\n",
    "import matplotlib.pyplot as plt\n",
    "\n",
    "def plot_ROC(data_pd, file_name):\n",
    "    y_test = data_pd[\"Label\"]\n",
    "    anthem = data_pd[\"anthem_prob\"]\n",
    "    esm2t6 = data_pd[\"esm2t6_prob\"]\n",
    "    tape = data_pd[\"tape_prob\"]\n",
    "    netmhcpan = data_pd[\"netmhcpan4.1_prob\"]\n",
    "\n",
    "    fpr1, tpr1, _ = metrics.roc_curve(y_test,  anthem)\n",
    "    fpr2, tpr2, _ = metrics.roc_curve(y_test,  tape)\n",
    "    fpr3, tpr3, _ = metrics.roc_curve(y_test,  esm2t6)\n",
    "    fpr4, tpr4, _ = metrics.roc_curve(y_test,  netmhcpan)\n",
    "\n",
    "    auc1 = metrics.roc_auc_score(y_test, anthem)\n",
    "    auc2 = metrics.roc_auc_score(y_test, tape)\n",
    "    auc3 = metrics.roc_auc_score(y_test, esm2t6)\n",
    "    auc4 = metrics.roc_auc_score(y_test, netmhcpan)\n",
    "\n",
    "    plt.plot(fpr1,tpr1,label=\"Anthem, AUC=\"+str(round(auc1,3)))\n",
    "    plt.plot(fpr2,tpr2,label=\"TAPE, AUC=\"+str(round(auc2,3)))\n",
    "    plt.plot(fpr3,tpr3,label=\"ESM-t6, AUC=\"+str(round(auc3,3)))\n",
    "    plt.plot(fpr4,tpr4,label=\"NetMHCpan4.1, AUC=\"+str(round(auc4,3)))\n",
    "\n",
    "    plt.legend(loc=4)\n",
    "    plt.xlabel(\"False Positive Rate\")\n",
    "    plt.ylabel(\"True Positive Rate\")\n",
    "    #plt.show()\n",
    "    plt.savefig(\"../plots/\" + file_name, dpi=300, bbox_inches='tight')\n",
    "    plt.clf()\n",
    "\n",
    "plot_ROC(data, \"ROC_comparison.png\")"
   ]
  },
  {
   "attachments": {},
   "cell_type": "markdown",
   "metadata": {},
   "source": [
    "# Metrics Plots by HLA and peptide length"
   ]
  },
  {
   "attachments": {},
   "cell_type": "markdown",
   "metadata": {},
   "source": [
    "Aquí, obtendremos las métricas pero por peptide lenght y HLA. Hacemos esto porque otras investigaciones lo separarn así."
   ]
  },
  {
   "cell_type": "code",
   "execution_count": 2,
   "metadata": {},
   "outputs": [
    {
     "name": "stdout",
     "output_type": "stream",
     "text": [
      "   id          HLA   peptide  Label  Length  \\\n",
      "0   1  HLA-A*01:01  LFGRDLSY      1       8   \n",
      "1   2  HLA-A*01:01  TDKKTHLY      1       8   \n",
      "2   3  HLA-A*01:01  RSDTPLIY      1       8   \n",
      "\n",
      "                                  mhc  anthem_pred  anthem_prob  esm2t6_pred  \\\n",
      "0  YFAMYQENMAHTDANTLYIIYRDYTWVARVYRGY            0        0.819            1   \n",
      "1  YFAMYQENMAHTDANTLYIIYRDYTWVARVYRGY            1        0.999            1   \n",
      "2  YFAMYQENMAHTDANTLYIIYRDYTWVARVYRGY            1        0.999            1   \n",
      "\n",
      "   esm2t6_prob  tape_pred  tape_prob  netmhcpan4.1_prob  netmhcpan4.1_rank  \\\n",
      "0     0.974380          1   0.876145           0.016228              3.731   \n",
      "1     0.998730          1   0.997400           0.938144              0.036   \n",
      "2     0.999896          1   0.996318           0.678749              0.165   \n",
      "\n",
      "  netmhcpan4.1_ligand  netmhcpan4.1_pred_SB_WB  netmhcpan4.1_pred_SB  \n",
      "0                   -                        0                     0  \n",
      "1                  SB                        1                     1  \n",
      "2                  SB                        1                     1  \n"
     ]
    }
   ],
   "source": [
    "# lee el csv con todas las predicciones y obtiene métricas\n",
    "import pandas as pd\n",
    "import numpy as np\n",
    "\n",
    "data = pd.read_csv(\"predictions_full.csv\")\n",
    "#print(data.head(3))\n",
    "\n",
    "# group by peptide length (k-mer)\n",
    "data_grouped = []  # cada elemento es un dataframe. \n",
    "# Ex: data_list[0] contiene los datos de peptidos de longitud 8\n",
    "# Ex: data_list[1] contiene los datos de peptidos de longitud 9\n",
    "\n",
    "for i in range(8,15):\n",
    "    peptides = data[data['Length'] == i] \n",
    "    data_grouped.append(peptides)\n",
    "    #peptides.to_csv(str(i) + \"-mer.csv\", index=False)\n",
    "\n",
    "print(data_grouped[0].head(3)) # 8-mer peptides"
   ]
  },
  {
   "cell_type": "code",
   "execution_count": 18,
   "metadata": {},
   "outputs": [
    {
     "ename": "ValueError",
     "evalue": "y_true takes value in {} and pos_label is not specified: either make y_true take value in {0, 1} or {-1, 1} or pass pos_label explicitly.",
     "output_type": "error",
     "traceback": [
      "\u001b[0;31m---------------------------------------------------------------------------\u001b[0m",
      "\u001b[0;31mValueError\u001b[0m                                Traceback (most recent call last)",
      "Cell \u001b[0;32mIn[18], line 20\u001b[0m\n\u001b[1;32m     17\u001b[0m         plot_ROC(data_by_hla, file_name)\n\u001b[1;32m     19\u001b[0m plot_ROC_by_HLA(\u001b[39m\"\u001b[39m\u001b[39mHLA-B*27:05\u001b[39m\u001b[39m\"\u001b[39m)\n\u001b[0;32m---> 20\u001b[0m plot_ROC_by_HLA(\u001b[39m\"\u001b[39;49m\u001b[39mHLA-A*11:01\u001b[39;49m\u001b[39m\"\u001b[39;49m)\n",
      "Cell \u001b[0;32mIn[18], line 17\u001b[0m, in \u001b[0;36mplot_ROC_by_HLA\u001b[0;34m(hla)\u001b[0m\n\u001b[1;32m     15\u001b[0m file_name \u001b[39m=\u001b[39m \u001b[39m\"\u001b[39m\u001b[39mROC_\u001b[39m\u001b[39m\"\u001b[39m \u001b[39m+\u001b[39m hla \u001b[39m+\u001b[39m \u001b[39m\"\u001b[39m\u001b[39m_\u001b[39m\u001b[39m\"\u001b[39m \u001b[39m+\u001b[39m \u001b[39mstr\u001b[39m(i \u001b[39m+\u001b[39m \u001b[39m8\u001b[39m) \u001b[39m+\u001b[39m \u001b[39m\"\u001b[39m\u001b[39m-mer.png\u001b[39m\u001b[39m\"\u001b[39m\n\u001b[1;32m     16\u001b[0m \u001b[39m#print(file_name)\u001b[39;00m\n\u001b[0;32m---> 17\u001b[0m plot_ROC(data_by_hla, file_name)\n",
      "Cell \u001b[0;32mIn[16], line 14\u001b[0m, in \u001b[0;36mplot_ROC\u001b[0;34m(data_pd, file_name)\u001b[0m\n\u001b[1;32m     11\u001b[0m tape \u001b[39m=\u001b[39m data_pd[\u001b[39m\"\u001b[39m\u001b[39mtape_prob\u001b[39m\u001b[39m\"\u001b[39m]\n\u001b[1;32m     12\u001b[0m netmhcpan \u001b[39m=\u001b[39m data_pd[\u001b[39m\"\u001b[39m\u001b[39mnetmhcpan4.1_prob\u001b[39m\u001b[39m\"\u001b[39m]\n\u001b[0;32m---> 14\u001b[0m fpr1, tpr1, _ \u001b[39m=\u001b[39m metrics\u001b[39m.\u001b[39;49mroc_curve(y_test,  anthem)\n\u001b[1;32m     15\u001b[0m fpr2, tpr2, _ \u001b[39m=\u001b[39m metrics\u001b[39m.\u001b[39mroc_curve(y_test,  tape)\n\u001b[1;32m     16\u001b[0m fpr3, tpr3, _ \u001b[39m=\u001b[39m metrics\u001b[39m.\u001b[39mroc_curve(y_test,  esm2t6)\n",
      "File \u001b[0;32m~/anaconda3/envs/torch11/lib/python3.9/site-packages/sklearn/utils/_param_validation.py:211\u001b[0m, in \u001b[0;36mvalidate_params.<locals>.decorator.<locals>.wrapper\u001b[0;34m(*args, **kwargs)\u001b[0m\n\u001b[1;32m    205\u001b[0m \u001b[39mtry\u001b[39;00m:\n\u001b[1;32m    206\u001b[0m     \u001b[39mwith\u001b[39;00m config_context(\n\u001b[1;32m    207\u001b[0m         skip_parameter_validation\u001b[39m=\u001b[39m(\n\u001b[1;32m    208\u001b[0m             prefer_skip_nested_validation \u001b[39mor\u001b[39;00m global_skip_validation\n\u001b[1;32m    209\u001b[0m         )\n\u001b[1;32m    210\u001b[0m     ):\n\u001b[0;32m--> 211\u001b[0m         \u001b[39mreturn\u001b[39;00m func(\u001b[39m*\u001b[39;49margs, \u001b[39m*\u001b[39;49m\u001b[39m*\u001b[39;49mkwargs)\n\u001b[1;32m    212\u001b[0m \u001b[39mexcept\u001b[39;00m InvalidParameterError \u001b[39mas\u001b[39;00m e:\n\u001b[1;32m    213\u001b[0m     \u001b[39m# When the function is just a wrapper around an estimator, we allow\u001b[39;00m\n\u001b[1;32m    214\u001b[0m     \u001b[39m# the function to delegate validation to the estimator, but we replace\u001b[39;00m\n\u001b[1;32m    215\u001b[0m     \u001b[39m# the name of the estimator by the name of the function in the error\u001b[39;00m\n\u001b[1;32m    216\u001b[0m     \u001b[39m# message to avoid confusion.\u001b[39;00m\n\u001b[1;32m    217\u001b[0m     msg \u001b[39m=\u001b[39m re\u001b[39m.\u001b[39msub(\n\u001b[1;32m    218\u001b[0m         \u001b[39mr\u001b[39m\u001b[39m\"\u001b[39m\u001b[39mparameter of \u001b[39m\u001b[39m\\\u001b[39m\u001b[39mw+ must be\u001b[39m\u001b[39m\"\u001b[39m,\n\u001b[1;32m    219\u001b[0m         \u001b[39mf\u001b[39m\u001b[39m\"\u001b[39m\u001b[39mparameter of \u001b[39m\u001b[39m{\u001b[39;00mfunc\u001b[39m.\u001b[39m\u001b[39m__qualname__\u001b[39m\u001b[39m}\u001b[39;00m\u001b[39m must be\u001b[39m\u001b[39m\"\u001b[39m,\n\u001b[1;32m    220\u001b[0m         \u001b[39mstr\u001b[39m(e),\n\u001b[1;32m    221\u001b[0m     )\n",
      "File \u001b[0;32m~/anaconda3/envs/torch11/lib/python3.9/site-packages/sklearn/metrics/_ranking.py:1094\u001b[0m, in \u001b[0;36mroc_curve\u001b[0;34m(y_true, y_score, pos_label, sample_weight, drop_intermediate)\u001b[0m\n\u001b[1;32m    992\u001b[0m \u001b[39m@validate_params\u001b[39m(\n\u001b[1;32m    993\u001b[0m     {\n\u001b[1;32m    994\u001b[0m         \u001b[39m\"\u001b[39m\u001b[39my_true\u001b[39m\u001b[39m\"\u001b[39m: [\u001b[39m\"\u001b[39m\u001b[39marray-like\u001b[39m\u001b[39m\"\u001b[39m],\n\u001b[0;32m   (...)\u001b[0m\n\u001b[1;32m   1003\u001b[0m     y_true, y_score, \u001b[39m*\u001b[39m, pos_label\u001b[39m=\u001b[39m\u001b[39mNone\u001b[39;00m, sample_weight\u001b[39m=\u001b[39m\u001b[39mNone\u001b[39;00m, drop_intermediate\u001b[39m=\u001b[39m\u001b[39mTrue\u001b[39;00m\n\u001b[1;32m   1004\u001b[0m ):\n\u001b[1;32m   1005\u001b[0m \u001b[39m    \u001b[39m\u001b[39m\"\"\"Compute Receiver operating characteristic (ROC).\u001b[39;00m\n\u001b[1;32m   1006\u001b[0m \n\u001b[1;32m   1007\u001b[0m \u001b[39m    Note: this implementation is restricted to the binary classification task.\u001b[39;00m\n\u001b[0;32m   (...)\u001b[0m\n\u001b[1;32m   1092\u001b[0m \u001b[39m    array([ inf, 0.8 , 0.4 , 0.35, 0.1 ])\u001b[39;00m\n\u001b[1;32m   1093\u001b[0m \u001b[39m    \"\"\"\u001b[39;00m\n\u001b[0;32m-> 1094\u001b[0m     fps, tps, thresholds \u001b[39m=\u001b[39m _binary_clf_curve(\n\u001b[1;32m   1095\u001b[0m         y_true, y_score, pos_label\u001b[39m=\u001b[39;49mpos_label, sample_weight\u001b[39m=\u001b[39;49msample_weight\n\u001b[1;32m   1096\u001b[0m     )\n\u001b[1;32m   1098\u001b[0m     \u001b[39m# Attempt to drop thresholds corresponding to points in between and\u001b[39;00m\n\u001b[1;32m   1099\u001b[0m     \u001b[39m# collinear with other points. These are always suboptimal and do not\u001b[39;00m\n\u001b[1;32m   1100\u001b[0m     \u001b[39m# appear on a plotted ROC curve (and thus do not affect the AUC).\u001b[39;00m\n\u001b[0;32m   (...)\u001b[0m\n\u001b[1;32m   1105\u001b[0m     \u001b[39m# but does not drop more complicated cases like fps = [1, 3, 7],\u001b[39;00m\n\u001b[1;32m   1106\u001b[0m     \u001b[39m# tps = [1, 2, 4]; there is no harm in keeping too many thresholds.\u001b[39;00m\n\u001b[1;32m   1107\u001b[0m     \u001b[39mif\u001b[39;00m drop_intermediate \u001b[39mand\u001b[39;00m \u001b[39mlen\u001b[39m(fps) \u001b[39m>\u001b[39m \u001b[39m2\u001b[39m:\n",
      "File \u001b[0;32m~/anaconda3/envs/torch11/lib/python3.9/site-packages/sklearn/metrics/_ranking.py:820\u001b[0m, in \u001b[0;36m_binary_clf_curve\u001b[0;34m(y_true, y_score, pos_label, sample_weight)\u001b[0m\n\u001b[1;32m    817\u001b[0m     y_score \u001b[39m=\u001b[39m y_score[nonzero_weight_mask]\n\u001b[1;32m    818\u001b[0m     sample_weight \u001b[39m=\u001b[39m sample_weight[nonzero_weight_mask]\n\u001b[0;32m--> 820\u001b[0m pos_label \u001b[39m=\u001b[39m _check_pos_label_consistency(pos_label, y_true)\n\u001b[1;32m    822\u001b[0m \u001b[39m# make y_true a boolean vector\u001b[39;00m\n\u001b[1;32m    823\u001b[0m y_true \u001b[39m=\u001b[39m y_true \u001b[39m==\u001b[39m pos_label\n",
      "File \u001b[0;32m~/anaconda3/envs/torch11/lib/python3.9/site-packages/sklearn/utils/validation.py:2246\u001b[0m, in \u001b[0;36m_check_pos_label_consistency\u001b[0;34m(pos_label, y_true)\u001b[0m\n\u001b[1;32m   2235\u001b[0m \u001b[39mif\u001b[39;00m pos_label \u001b[39mis\u001b[39;00m \u001b[39mNone\u001b[39;00m \u001b[39mand\u001b[39;00m (\n\u001b[1;32m   2236\u001b[0m     classes\u001b[39m.\u001b[39mdtype\u001b[39m.\u001b[39mkind \u001b[39min\u001b[39;00m \u001b[39m\"\u001b[39m\u001b[39mOUS\u001b[39m\u001b[39m\"\u001b[39m\n\u001b[1;32m   2237\u001b[0m     \u001b[39mor\u001b[39;00m \u001b[39mnot\u001b[39;00m (\n\u001b[0;32m   (...)\u001b[0m\n\u001b[1;32m   2243\u001b[0m     )\n\u001b[1;32m   2244\u001b[0m ):\n\u001b[1;32m   2245\u001b[0m     classes_repr \u001b[39m=\u001b[39m \u001b[39m\"\u001b[39m\u001b[39m, \u001b[39m\u001b[39m\"\u001b[39m\u001b[39m.\u001b[39mjoin(\u001b[39mrepr\u001b[39m(c) \u001b[39mfor\u001b[39;00m c \u001b[39min\u001b[39;00m classes)\n\u001b[0;32m-> 2246\u001b[0m     \u001b[39mraise\u001b[39;00m \u001b[39mValueError\u001b[39;00m(\n\u001b[1;32m   2247\u001b[0m         \u001b[39mf\u001b[39m\u001b[39m\"\u001b[39m\u001b[39my_true takes value in \u001b[39m\u001b[39m{{\u001b[39;00m\u001b[39m{\u001b[39;00mclasses_repr\u001b[39m}\u001b[39;00m\u001b[39m}}\u001b[39;00m\u001b[39m and pos_label is not \u001b[39m\u001b[39m\"\u001b[39m\n\u001b[1;32m   2248\u001b[0m         \u001b[39m\"\u001b[39m\u001b[39mspecified: either make y_true take value in \u001b[39m\u001b[39m{\u001b[39m\u001b[39m0, 1} or \u001b[39m\u001b[39m\"\u001b[39m\n\u001b[1;32m   2249\u001b[0m         \u001b[39m\"\u001b[39m\u001b[39m{\u001b[39m\u001b[39m-1, 1} or pass pos_label explicitly.\u001b[39m\u001b[39m\"\u001b[39m\n\u001b[1;32m   2250\u001b[0m     )\n\u001b[1;32m   2251\u001b[0m \u001b[39melif\u001b[39;00m pos_label \u001b[39mis\u001b[39;00m \u001b[39mNone\u001b[39;00m:\n\u001b[1;32m   2252\u001b[0m     pos_label \u001b[39m=\u001b[39m \u001b[39m1\u001b[39m\n",
      "\u001b[0;31mValueError\u001b[0m: y_true takes value in {} and pos_label is not specified: either make y_true take value in {0, 1} or {-1, 1} or pass pos_label explicitly."
     ]
    },
    {
     "data": {
      "text/plain": [
       "<Figure size 640x480 with 0 Axes>"
      ]
     },
     "metadata": {},
     "output_type": "display_data"
    }
   ],
   "source": [
    "from sklearn import metrics\n",
    "from sklearn.linear_model import LogisticRegression\n",
    "from sklearn.model_selection import train_test_split\n",
    "from sklearn.datasets import load_breast_cancer\n",
    "import matplotlib.pyplot as plt\n",
    "\n",
    "#data_8_mer = data_grouped[0]\n",
    "#data_by_hla = data_8_mer[data_8_mer['HLA'] == \"HLA-A*11:01\"] # dividimos \n",
    "#data_by_hla = data_8_mer[data_8_mer['HLA'] == \"HLA-B*27:05\"] # dividimos \n",
    "#plot_ROC(data_by_hla)\n",
    "\n",
    "def plot_ROC_by_HLA(hla):\n",
    "    for i, data_k_mer in enumerate(data_grouped):\n",
    "        data_by_hla = data_k_mer[data_k_mer['HLA'] == hla] # dividimos \n",
    "        file_name = \"ROC_\" + hla + \"_\" + str(i + 8) + \"-mer.png\"\n",
    "        #print(file_name)\n",
    "        plot_ROC(data_by_hla, file_name)\n",
    "\n",
    "plot_ROC_by_HLA(\"HLA-B*27:05\")\n",
    "plot_ROC_by_HLA(\"HLA-A*11:01\")"
   ]
  }
 ],
 "metadata": {
  "kernelspec": {
   "display_name": "torch11",
   "language": "python",
   "name": "python3"
  },
  "language_info": {
   "codemirror_mode": {
    "name": "ipython",
    "version": 3
   },
   "file_extension": ".py",
   "mimetype": "text/x-python",
   "name": "python",
   "nbconvert_exporter": "python",
   "pygments_lexer": "ipython3",
   "version": "3.9.16"
  },
  "orig_nbformat": 4
 },
 "nbformat": 4,
 "nbformat_minor": 2
}
