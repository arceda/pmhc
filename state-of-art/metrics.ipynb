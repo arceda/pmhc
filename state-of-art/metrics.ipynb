{
 "cells": [
  {
   "attachments": {},
   "cell_type": "markdown",
   "metadata": {},
   "source": [
    "# General metrics"
   ]
  },
  {
   "cell_type": "code",
   "execution_count": 8,
   "metadata": {},
   "outputs": [
    {
     "name": "stdout",
     "output_type": "stream",
     "text": [
      "   id          HLA   peptide  Label  Length  \\\n",
      "0   1  HLA-A*01:01  LFGRDLSY      1       8   \n",
      "1   2  HLA-A*01:01  TDKKTHLY      1       8   \n",
      "2   3  HLA-A*01:01  RSDTPLIY      1       8   \n",
      "\n",
      "                                  mhc  anthem_pred  anthem_prob  esm2t6_pred  \\\n",
      "0  YFAMYQENMAHTDANTLYIIYRDYTWVARVYRGY            0        0.819            1   \n",
      "1  YFAMYQENMAHTDANTLYIIYRDYTWVARVYRGY            1        0.999            1   \n",
      "2  YFAMYQENMAHTDANTLYIIYRDYTWVARVYRGY            1        0.999            1   \n",
      "\n",
      "   esm2t6_prob  ...  netmhcpan4.1_rank  netmhcpan4.1_ligand  \\\n",
      "0     0.974380  ...              3.731                    -   \n",
      "1     0.998730  ...              0.036                   SB   \n",
      "2     0.999896  ...              0.165                   SB   \n",
      "\n",
      "   netmhcpan4.1_pred_SB_WB  netmhcpan4.1_pred_SB acme_pred  acme_prob  \\\n",
      "0                        0                     0         0   0.083837   \n",
      "1                        1                     1         0   0.177621   \n",
      "2                        1                     1         1   0.764999   \n",
      "\n",
      "   mixmhcpred_rank  mixmhcpred_pred  mhcflurry_prob  mhcflurry_pred  \n",
      "0         2.741370                0        0.012243               0  \n",
      "1         3.238930                0        0.857037               1  \n",
      "2         0.079745                1        0.929620               1  \n",
      "\n",
      "[3 rows x 23 columns]\n",
      "\n",
      "(143515, 23)\n",
      "['HLA-A*01:01' 'HLA-A*02:01' 'HLA-A*03:01' 'HLA-A*11:01' 'HLA-A*24:02'\n",
      " 'HLA-A*29:02' 'HLA-B*07:02' 'HLA-B*08:01' 'HLA-B*13:02' 'HLA-B*14:02'\n",
      " 'HLA-B*15:01' 'HLA-B*18:01' 'HLA-B*18:03' 'HLA-B*27:05' 'HLA-B*27:09'\n",
      " 'HLA-B*35:01' 'HLA-B*37:01' 'HLA-B*39:01' 'HLA-B*39:24' 'HLA-B*40:01'\n",
      " 'HLA-B*40:02' 'HLA-B*44:02' 'HLA-B*44:03' 'HLA-B*46:01' 'HLA-B*49:01'\n",
      " 'HLA-B*51:01' 'HLA-B*51:08' 'HLA-B*52:01' 'HLA-B*54:01' 'HLA-B*57:01'\n",
      " 'HLA-B*57:03' 'HLA-B*58:01' 'HLA-A*02:02' 'HLA-A*02:03' 'HLA-A*02:04'\n",
      " 'HLA-A*02:05' 'HLA-A*02:06' 'HLA-A*02:07' 'HLA-A*02:11' 'HLA-A*02:12'\n",
      " 'HLA-A*02:16' 'HLA-A*02:17' 'HLA-A*02:19' 'HLA-A*23:01' 'HLA-A*24:03'\n",
      " 'HLA-A*25:01' 'HLA-A*26:01' 'HLA-A*26:02' 'HLA-A*26:03' 'HLA-A*30:01'\n",
      " 'HLA-A*30:02' 'HLA-A*31:01' 'HLA-A*32:01' 'HLA-A*32:07' 'HLA-A*33:01'\n",
      " 'HLA-A*66:01' 'HLA-A*68:01' 'HLA-A*68:02' 'HLA-A*68:23' 'HLA-A*69:01'\n",
      " 'HLA-A*80:01' 'HLA-A*02:20' 'HLA-B*15:02' 'HLA-B*15:03' 'HLA-B*15:09'\n",
      " 'HLA-B*15:11' 'HLA-B*15:17' 'HLA-B*15:18' 'HLA-B*15:42' 'HLA-B*27:01'\n",
      " 'HLA-B*27:02' 'HLA-B*27:03' 'HLA-B*27:04' 'HLA-B*27:06' 'HLA-B*27:07'\n",
      " 'HLA-B*27:08' 'HLA-B*27:20' 'HLA-B*35:03' 'HLA-B*35:08' 'HLA-B*38:01'\n",
      " 'HLA-B*39:06' 'HLA-B*41:01' 'HLA-B*45:01' 'HLA-B*48:01' 'HLA-B*50:01'\n",
      " 'HLA-B*53:01' 'HLA-B*56:01' 'HLA-B*73:01' 'HLA-B*14:01' 'HLA-B*44:27']\n"
     ]
    }
   ],
   "source": [
    "# lee el csv con todas las predicciones y obtiene métricas\n",
    "import pandas as pd\n",
    "import numpy as np\n",
    "\n",
    "data = pd.read_csv(\"predictions_full.csv\")\n",
    "#data['netmhcpan4.1_pred_SB'] = data.apply(lambda row: (  1 if row['netmhcpan4.1_ligand'] == \"SB\" else 0  ), axis=1)\n",
    "#data.to_csv(\"predictions2.csv\", index=False)\n",
    "print(data.head(3))\n",
    "print()\n",
    "\n",
    "# para el caso de ACME, no utlizamos todo xq no teneia algunos HLA\n",
    "hlas_non_acme = ['HLA-C*01:02', 'HLA-C*02:02', 'HLA-C*03:03',\n",
    " 'HLA-C*03:04', 'HLA-C*04:01', 'HLA-C*05:01' ,'HLA-C*06:02', 'HLA-C*07:01',\n",
    " 'HLA-C*07:02', 'HLA-C*07:04' ,'HLA-C*08:02', 'HLA-C*12:03', 'HLA-C*14:02',\n",
    " 'HLA-C*15:02', 'HLA-C*16:01','HLA-C*17:01',  \"HLA-A*02:50\", \"HLA-A*24:06\", \"HLA-A*24:13\", \"HLA-A*32:15\", \"HLA-B*45:06\", \"HLA-B*83:01\"]\n",
    "data_acme = data.loc[~(data['HLA'].isin(hlas_non_acme))]\n",
    "print(data_acme.shape)\n",
    "print(data_acme['HLA'].unique())"
   ]
  },
  {
   "cell_type": "code",
   "execution_count": 9,
   "metadata": {},
   "outputs": [],
   "source": [
    "from sklearn.metrics import (\n",
    "    confusion_matrix,\n",
    "    accuracy_score,\n",
    "    precision_score,\n",
    "    recall_score,\n",
    "    f1_score,\n",
    "    roc_auc_score,\n",
    "    auc, roc_curve,\n",
    "    matthews_corrcoef\n",
    ")\n",
    "from sklearn.metrics import roc_auc_score\n",
    "import matplotlib.pyplot as plt\n",
    "import numpy as np\n",
    "\n",
    "def plot_metrics(metrics, file_name):\n",
    "    metrics_tape = metrics['tape']\n",
    "    metrics_esm2t6 = metrics['esm2']\n",
    "    metrics_anthem = metrics['anthem']\n",
    "    metrics_netmhcpan = metrics['netmhcpan4.1']\n",
    "    metrics_acme = metrics['acme']\n",
    "    metrics_mixmhcpred = metrics['mixmhcpred']\n",
    "    metrics_mhcflurry = metrics['mhcflurry']\n",
    "    # data from https://allisonhorst.github.io/palmerpenguins/\n",
    "    metrics = (\"AUC\", \"Accuracy\", \"Presicion\", \"Recall\", \"F1-score\", \"MCC\")\n",
    "    results = {\n",
    "        'Tape': (metrics_tape[\"auc\"], metrics_tape[\"accuracy\"], metrics_tape[\"precision\"], metrics_tape[\"recall\"], metrics_tape[\"f1score\"], metrics_tape[\"mcc\"]),\n",
    "        'ESM2-t6': (metrics_esm2t6[\"auc\"], metrics_esm2t6[\"accuracy\"], metrics_esm2t6[\"precision\"], metrics_esm2t6[\"recall\"], metrics_esm2t6[\"f1score\"], metrics_esm2t6[\"mcc\"]),\n",
    "        'Anthem': (metrics_anthem[\"auc\"], metrics_anthem[\"accuracy\"], metrics_anthem[\"precision\"], metrics_anthem[\"recall\"], metrics_anthem[\"f1score\"], metrics_anthem[\"mcc\"]),\n",
    "        'NetMHCpan4.1': (metrics_netmhcpan[\"auc\"], metrics_netmhcpan[\"accuracy\"], metrics_netmhcpan[\"precision\"], metrics_netmhcpan[\"recall\"], metrics_netmhcpan[\"f1score\"], metrics_netmhcpan[\"mcc\"]),\n",
    "        'Acme': (metrics_acme[\"auc\"], metrics_acme[\"accuracy\"], metrics_acme[\"precision\"], metrics_acme[\"recall\"], metrics_acme[\"f1score\"], metrics_acme[\"mcc\"]),\n",
    "    }\n",
    "\n",
    "    colors = {'Tape':'#104E8B', 'ESM2-t6':'#3F6D9B', 'Anthem':'#6E8DAB', 'NetMHCpan4.1':'#9DACBB', 'Acme':'#CCCCCC'}\n",
    "\n",
    "    x = np.arange(len(metrics))  # the label locations\n",
    "    width = 0.18  # the width of the bars\n",
    "    multiplier = 0\n",
    "\n",
    "    fig, ax = plt.subplots(layout='constrained')\n",
    "\n",
    "    for attribute, measurement in results.items():\n",
    "        offset = width * multiplier\n",
    "        rects = ax.bar(x + offset, measurement, width, label=attribute, color=colors[attribute])\n",
    "        #ax.bar_label(rects, padding=3) # agrega el valor arriba de cada barra\n",
    "        multiplier += 1\n",
    "\n",
    "    # Add some text for labels, title and custom x-axis tick labels, etc.\n",
    "    ax.set_ylabel('Metric value')\n",
    "    #ax.set_title('guin attributes by species')\n",
    "    ax.set_xticks(x + width, metrics)\n",
    "    ax.legend(loc='upper left', ncols=4)\n",
    "    ax.set_ylim(0, 1.2)\n",
    "\n",
    "    plt.savefig(\"../plots/\" + file_name, dpi=300, bbox_inches='tight')\n",
    "    plt.clf()\n",
    "\n",
    "def get_metrics(y_test, y_test_predictions, y_probs):\n",
    "    accuracy = accuracy_score(y_test, y_test_predictions)\n",
    "    precision = precision_score(y_test, y_test_predictions)\n",
    "    recall = recall_score(y_test, y_test_predictions)\n",
    "    f1score = f1_score(y_test, y_test_predictions)\n",
    "    #auc = roc_auc_score(y_test, y_test_predictions)\n",
    "    mcc = matthews_corrcoef(y_test, y_test_predictions)\n",
    "    conf_matrix = confusion_matrix(y_test, y_test_predictions)\n",
    "    #auc_val = roc_auc_score(y_test, y_probs)\n",
    "    fpr, tpr, thresholds = roc_curve(y_test, y_probs, pos_label = 1)\n",
    "    auc_val = auc(fpr, tpr)  \n",
    "\n",
    "    return {\"accuracy\":accuracy, \"precision\":precision, \"recall\":recall, \"f1score\":f1score, \"auc\":auc_val, \"mcc\":mcc, \"conf_matrix\":conf_matrix}\n",
    "\n",
    "def get_metrics_mixmhcpred(y_test, y_test_predictions, y_ranks):\n",
    "    accuracy = accuracy_score(y_test, y_test_predictions)\n",
    "    precision = precision_score(y_test, y_test_predictions)\n",
    "    recall = recall_score(y_test, y_test_predictions)\n",
    "    f1score = f1_score(y_test, y_test_predictions)\n",
    "    mcc = matthews_corrcoef(y_test, y_test_predictions)\n",
    "    conf_matrix = confusion_matrix(y_test, y_test_predictions)\n",
    "    # auc = roc_auc_score(y_test, y_ranks) por defecto auc usa thresholds de 0 a 1, pero en mixmhcpred no nos conviene, asi q usaremos nuestros porpios thresholds\n",
    "    \n",
    "    fpr, tpr, thresholds = roc_curve(y_test, y_ranks, pos_label = 0)\n",
    "    #print(len(thresholds), max(thresholds), min(thresholds), sum(thresholds)/len(thresholds))\n",
    "    #print(thresholds[2000:2030])\n",
    "\n",
    "    # IMPORTANTE, CON ESTO SABEMOS CUAL ES EL BEST THRESHOLD\n",
    "    #print(\"best threshold\", thresholds[np.argmax(tpr - fpr)])\n",
    "    auc_val = auc(fpr, tpr)    \n",
    "\n",
    "    return {\"accuracy\":accuracy, \"precision\":precision, \"recall\":recall, \"f1score\":f1score, \"auc\":auc_val, \"mcc\":mcc, \"conf_matrix\":conf_matrix}\n"
   ]
  },
  {
   "cell_type": "code",
   "execution_count": 12,
   "metadata": {},
   "outputs": [
    {
     "name": "stdout",
     "output_type": "stream",
     "text": [
      "{'accuracy': 0.8811044153436087, 'precision': 0.9786196932327316, 'recall': 0.7787248867727325, 'f1score': 0.8673034514424663, 'auc': 0.9768046173456035, 'mcc': 0.7784646560319661, 'conf_matrix': array([[85005,  1465],\n",
      "       [19054, 67056]])}\n",
      "{'accuracy': 0.8312492756982269, 'precision': 0.9844103296441747, 'recall': 0.6724422250609685, 'f1score': 0.7990561025591488, 'auc': 0.9557360050724075, 'mcc': 0.6981548169142866, 'conf_matrix': array([[85553,   917],\n",
      "       [28206, 57904]])}\n",
      "{'accuracy': 0.9414822111484529, 'precision': 0.9352389459580169, 'recall': 0.9483915921495761, 'f1score': 0.9417693491936274, 'auc': 0.9841243089833875, 'mcc': 0.8830543001632413, 'conf_matrix': array([[80815,  5655],\n",
      "       [ 4444, 81666]])}\n",
      "{'accuracy': 0.9401089349866728, 'precision': 0.9398305084745763, 'recall': 0.9401579375217745, 'f1score': 0.9399941944847605, 'auc': 0.9830449283465761, 'mcc': 0.8802174888234441, 'conf_matrix': array([[81287,  5183],\n",
      "       [ 5153, 80957]])}\n",
      "{'accuracy': 0.845200850085357, 'precision': 0.9716975727135573, 'recall': 0.7104796481184109, 'f1score': 0.8208069173563053, 'auc': 0.9475667844894227, 'mcc': 0.7165341364068877, 'conf_matrix': array([[70418,  1482],\n",
      "       [20734, 50881]])}\n",
      "{'accuracy': 0.8856588248928033, 'precision': 0.9154534643550103, 'recall': 0.8492741841830217, 'f1score': 0.881122925389319, 'auc': 0.93864945497687, 'mcc': 0.7732977014250201, 'conf_matrix': array([[79716,  6754],\n",
      "       [12979, 73131]])}\n",
      "{'accuracy': 0.9093116235948545, 'precision': 0.9211485816069145, 'recall': 0.8948438044361863, 'f1score': 0.9078056797497659, 'auc': 0.9641677985039805, 'mcc': 0.8189443074733473, 'conf_matrix': array([[79874,  6596],\n",
      "       [ 9055, 77055]])}\n"
     ]
    },
    {
     "data": {
      "text/plain": [
       "<Figure size 640x480 with 0 Axes>"
      ]
     },
     "metadata": {},
     "output_type": "display_data"
    }
   ],
   "source": [
    "\n",
    "metrics_anthem = get_metrics(data[\"Label\"], data[\"anthem_pred\"], data[\"anthem_prob\"])\n",
    "metrics_netmhcpan = get_metrics(data[\"Label\"], data[\"netmhcpan4.1_pred_SB\"], data[\"netmhcpan4.1_prob\"])\n",
    "metrics_tape = get_metrics(data[\"Label\"], data[\"tape_pred\"], data[\"tape_prob\"])\n",
    "metrics_esm2t6 = get_metrics(data[\"Label\"], data[\"esm2t6_pred\"], data[\"esm2t6_prob\"])\n",
    "metrics_acme = get_metrics(data_acme[\"Label\"], data_acme[\"acme_pred\"], data_acme[\"acme_prob\"])\n",
    "metrics_mixmhcpred = get_metrics_mixmhcpred(data[\"Label\"], data[\"mixmhcpred_pred\"], data[\"mixmhcpred_rank\"])\n",
    "metrics_mhcflurry = get_metrics(data[\"Label\"], data[\"mhcflurry_pred\"], data[\"mhcflurry_prob\"])\n",
    "print(metrics_anthem)\n",
    "print(metrics_netmhcpan)\n",
    "print(metrics_tape)\n",
    "print(metrics_esm2t6)\n",
    "print(metrics_acme)\n",
    "print(metrics_mixmhcpred)\n",
    "print(metrics_mhcflurry)\n",
    "\n",
    "plot_metrics({'tape':metrics_tape, 'anthem':metrics_anthem, 'acme':metrics_acme,\n",
    "              'netmhcpan4.1':metrics_netmhcpan, 'esm2':metrics_esm2t6, \n",
    "              'mixmhcpred':metrics_mixmhcpred, 'mhcflurry':metrics_mhcflurry}, \"metrics_comparison.png\")\n"
   ]
  },
  {
   "cell_type": "code",
   "execution_count": 18,
   "metadata": {},
   "outputs": [
    {
     "data": {
      "text/plain": [
       "<Figure size 640x480 with 0 Axes>"
      ]
     },
     "metadata": {},
     "output_type": "display_data"
    }
   ],
   "source": [
    "from sklearn import metrics\n",
    "from sklearn.linear_model import LogisticRegression\n",
    "from sklearn.model_selection import train_test_split\n",
    "from sklearn.datasets import load_breast_cancer\n",
    "import matplotlib.pyplot as plt\n",
    "\n",
    "def plot_ROC(data_pd, file_name, full=False):\n",
    "    y_test = data_pd[\"Label\"]\n",
    "    \n",
    "    if full: # cuando proceso todo, considero q acme no tiene todas las muestras\n",
    "        acme = data_acme[\"acme_prob\"]\n",
    "        y_test_acme = data_acme[\"Label\"]\n",
    "        fpr5, tpr5, _ = metrics.roc_curve(y_test_acme,  acme)\n",
    "        auc5 = metrics.roc_auc_score(y_test_acme, acme)\n",
    "    else: # cuando el por hla, no es neceario \n",
    "        acme = data_pd[\"acme_prob\"]\n",
    "        fpr5, tpr5, _ = metrics.roc_curve(y_test,  acme)\n",
    "        auc5 = metrics.roc_auc_score(y_test, acme)\n",
    "\n",
    "    \n",
    "    anthem = data_pd[\"anthem_prob\"]\n",
    "    esm2t6 = data_pd[\"esm2t6_prob\"]\n",
    "    tape = data_pd[\"tape_prob\"]\n",
    "    netmhcpan = data_pd[\"netmhcpan4.1_prob\"].astype(float)\n",
    "\n",
    "    fpr1, tpr1, _ = metrics.roc_curve(y_test,  anthem)\n",
    "    fpr2, tpr2, _ = metrics.roc_curve(y_test,  tape)\n",
    "    fpr3, tpr3, _ = metrics.roc_curve(y_test,  esm2t6)\n",
    "    fpr4, tpr4, _ = metrics.roc_curve(y_test,  netmhcpan)\n",
    "\n",
    "    auc1 = metrics.roc_auc_score(y_test, anthem)\n",
    "    auc2 = metrics.roc_auc_score(y_test, tape)\n",
    "    auc3 = metrics.roc_auc_score(y_test, esm2t6)\n",
    "    auc4 = metrics.roc_auc_score(y_test, netmhcpan)\n",
    "\n",
    "    plt.plot(fpr1,tpr1,label=\"Anthem, AUC=\"+str(round(auc1,3)))\n",
    "    plt.plot(fpr2,tpr2,label=\"TAPE, AUC=\"+str(round(auc2,3)))\n",
    "    plt.plot(fpr3,tpr3,label=\"ESM2-t6, AUC=\"+str(round(auc3,3)))\n",
    "    plt.plot(fpr4,tpr4,label=\"NetMHCpan4.1, AUC=\"+str(round(auc4,3)))\n",
    "    plt.plot(fpr5,tpr5,label=\"Acme, AUC=\"+str(round(auc5,3)))\n",
    "\n",
    "    plt.legend(loc=4)\n",
    "    plt.xlabel(\"False Positive Rate\")\n",
    "    plt.ylabel(\"True Positive Rate\")\n",
    "    #plt.show()\n",
    "    plt.savefig(\"../plots/\" + file_name, dpi=300, bbox_inches='tight')\n",
    "    plt.clf()\n",
    "\n",
    "plot_ROC(data, \"ROC_comparison.png\", True)"
   ]
  },
  {
   "attachments": {},
   "cell_type": "markdown",
   "metadata": {},
   "source": [
    "# Metrics Plots by specifics HLA and peptide length"
   ]
  },
  {
   "attachments": {},
   "cell_type": "markdown",
   "metadata": {},
   "source": [
    "Aquí, obtendremos las métricas pero por peptide lenght y HLA. Hacemos esto porque otras investigaciones lo separarn así."
   ]
  },
  {
   "cell_type": "code",
   "execution_count": null,
   "metadata": {},
   "outputs": [],
   "source": [
    "# lee el csv con todas las predicciones y obtiene métricas\n",
    "import pandas as pd\n",
    "import numpy as np\n",
    "\n",
    "data = pd.read_csv(\"predictions_full.csv\")\n",
    "#print(data.head(3))\n",
    "\n",
    "# group by peptide length (k-mer)\n",
    "data_grouped = []  # cada elemento es un dataframe. \n",
    "# Ex: data_list[0] contiene los datos de peptidos de longitud 8\n",
    "# Ex: data_list[1] contiene los datos de peptidos de longitud 9\n",
    "\n",
    "for i in range(8,15):\n",
    "    data_by_kmer = data[data['Length'] == i] \n",
    "    data_by_kmer_acme = data_acme[data_acme['Length'] == i] \n",
    "    data_grouped.append(data_by_kmer)\n",
    "    #peptides.to_csv(str(i) + \"-mer.csv\", index=False)\n",
    "    \n",
    "    metrics_anthem = get_metrics(data_by_kmer[\"Label\"], data_by_kmer[\"anthem_pred\"], data_by_kmer[\"anthem_prob\"])\n",
    "    metrics_netmhcpan = get_metrics(data_by_kmer[\"Label\"], data_by_kmer[\"netmhcpan4.1_pred_SB\"], data_by_kmer[\"netmhcpan4.1_prob\"])\n",
    "    metrics_tape = get_metrics(data_by_kmer[\"Label\"], data_by_kmer[\"tape_pred\"], data_by_kmer[\"tape_prob\"])\n",
    "    metrics_esm2t6 = get_metrics(data_by_kmer[\"Label\"], data_by_kmer[\"esm2t6_pred\"], data_by_kmer[\"esm2t6_prob\"])\n",
    "    metrics_acme = get_metrics(data_by_kmer_acme[\"Label\"], data_by_kmer_acme[\"acme_pred\"], data_by_kmer_acme[\"acme_prob\"])\n",
    "\n",
    "    plot_metrics({'tape':metrics_tape, 'anthem':metrics_anthem, 'acme':metrics_acme,\n",
    "              'netmhcpan4.1':metrics_netmhcpan, 'esm2':metrics_esm2t6}, \"metrics_comparison_\" + str(i) + \"mer.png\")\n",
    "    "
   ]
  },
  {
   "cell_type": "code",
   "execution_count": null,
   "metadata": {},
   "outputs": [],
   "source": [
    "from sklearn import metrics\n",
    "from sklearn.linear_model import LogisticRegression\n",
    "from sklearn.model_selection import train_test_split\n",
    "from sklearn.datasets import load_breast_cancer\n",
    "import matplotlib.pyplot as plt\n",
    "\n",
    "#data_8_mer = data_grouped[0]\n",
    "#data_by_hla = data_8_mer[data_8_mer['HLA'] == \"HLA-A*11:01\"] # dividimos \n",
    "#data_by_hla = data_8_mer[data_8_mer['HLA'] == \"HLA-B*27:05\"] # dividimos \n",
    "#plot_ROC(data_by_hla)\n",
    "\n",
    "def plot_ROC_by_HLA(hla):\n",
    "    for i, data_k_mer in enumerate(data_grouped):\n",
    "        data_by_hla = data_k_mer[data_k_mer['HLA'] == hla] # dividimos \n",
    "        print(str(i+8)+\"-mer\", data_by_hla.shape, \"shape--------\")\n",
    "        file_name = \"ROC_\" + hla + \"_\" + str(i + 8) + \"-mer.png\"\n",
    "        #print(file_name)\n",
    "        if data_by_hla.shape[0] > 0:\n",
    "            plot_ROC(data_by_hla, file_name)\n",
    "\n",
    "plot_ROC_by_HLA(\"HLA-B*27:05\")\n",
    "plot_ROC_by_HLA(\"HLA-A*11:01\")"
   ]
  },
  {
   "attachments": {},
   "cell_type": "markdown",
   "metadata": {},
   "source": [
    "# Box Plot distribution"
   ]
  },
  {
   "cell_type": "code",
   "execution_count": 79,
   "metadata": {},
   "outputs": [
    {
     "name": "stderr",
     "output_type": "stream",
     "text": [
      "/home/vicente/anaconda3/envs/torch11/lib/python3.9/site-packages/sklearn/metrics/_classification.py:1469: UndefinedMetricWarning: Precision is ill-defined and being set to 0.0 due to no predicted samples. Use `zero_division` parameter to control this behavior.\n",
      "  _warn_prf(average, modifier, msg_start, len(result))\n",
      "/home/vicente/anaconda3/envs/torch11/lib/python3.9/site-packages/sklearn/metrics/_classification.py:1469: UndefinedMetricWarning: Precision is ill-defined and being set to 0.0 due to no predicted samples. Use `zero_division` parameter to control this behavior.\n",
      "  _warn_prf(average, modifier, msg_start, len(result))\n",
      "/home/vicente/anaconda3/envs/torch11/lib/python3.9/site-packages/sklearn/metrics/_classification.py:1469: UndefinedMetricWarning: Precision is ill-defined and being set to 0.0 due to no predicted samples. Use `zero_division` parameter to control this behavior.\n",
      "  _warn_prf(average, modifier, msg_start, len(result))\n",
      "/home/vicente/anaconda3/envs/torch11/lib/python3.9/site-packages/sklearn/metrics/_classification.py:1469: UndefinedMetricWarning: Precision is ill-defined and being set to 0.0 due to no predicted samples. Use `zero_division` parameter to control this behavior.\n",
      "  _warn_prf(average, modifier, msg_start, len(result))\n",
      "/home/vicente/anaconda3/envs/torch11/lib/python3.9/site-packages/sklearn/metrics/_classification.py:1469: UndefinedMetricWarning: Precision is ill-defined and being set to 0.0 due to no predicted samples. Use `zero_division` parameter to control this behavior.\n",
      "  _warn_prf(average, modifier, msg_start, len(result))\n",
      "/home/vicente/anaconda3/envs/torch11/lib/python3.9/site-packages/sklearn/metrics/_classification.py:1469: UndefinedMetricWarning: Precision is ill-defined and being set to 0.0 due to no predicted samples. Use `zero_division` parameter to control this behavior.\n",
      "  _warn_prf(average, modifier, msg_start, len(result))\n",
      "/home/vicente/anaconda3/envs/torch11/lib/python3.9/site-packages/sklearn/metrics/_classification.py:1469: UndefinedMetricWarning: Precision is ill-defined and being set to 0.0 due to no predicted samples. Use `zero_division` parameter to control this behavior.\n",
      "  _warn_prf(average, modifier, msg_start, len(result))\n",
      "/home/vicente/anaconda3/envs/torch11/lib/python3.9/site-packages/sklearn/metrics/_classification.py:1469: UndefinedMetricWarning: Precision is ill-defined and being set to 0.0 due to no predicted samples. Use `zero_division` parameter to control this behavior.\n",
      "  _warn_prf(average, modifier, msg_start, len(result))\n",
      "/home/vicente/anaconda3/envs/torch11/lib/python3.9/site-packages/sklearn/metrics/_classification.py:1469: UndefinedMetricWarning: Precision is ill-defined and being set to 0.0 due to no predicted samples. Use `zero_division` parameter to control this behavior.\n",
      "  _warn_prf(average, modifier, msg_start, len(result))\n",
      "/home/vicente/anaconda3/envs/torch11/lib/python3.9/site-packages/sklearn/metrics/_classification.py:1469: UndefinedMetricWarning: Precision is ill-defined and being set to 0.0 due to no predicted samples. Use `zero_division` parameter to control this behavior.\n",
      "  _warn_prf(average, modifier, msg_start, len(result))\n",
      "/home/vicente/anaconda3/envs/torch11/lib/python3.9/site-packages/sklearn/metrics/_classification.py:1469: UndefinedMetricWarning: Precision is ill-defined and being set to 0.0 due to no predicted samples. Use `zero_division` parameter to control this behavior.\n",
      "  _warn_prf(average, modifier, msg_start, len(result))\n",
      "/home/vicente/anaconda3/envs/torch11/lib/python3.9/site-packages/sklearn/metrics/_classification.py:1469: UndefinedMetricWarning: Precision is ill-defined and being set to 0.0 due to no predicted samples. Use `zero_division` parameter to control this behavior.\n",
      "  _warn_prf(average, modifier, msg_start, len(result))\n",
      "/home/vicente/anaconda3/envs/torch11/lib/python3.9/site-packages/sklearn/metrics/_classification.py:1469: UndefinedMetricWarning: Precision is ill-defined and being set to 0.0 due to no predicted samples. Use `zero_division` parameter to control this behavior.\n",
      "  _warn_prf(average, modifier, msg_start, len(result))\n",
      "/home/vicente/anaconda3/envs/torch11/lib/python3.9/site-packages/sklearn/metrics/_classification.py:1469: UndefinedMetricWarning: Precision is ill-defined and being set to 0.0 due to no predicted samples. Use `zero_division` parameter to control this behavior.\n",
      "  _warn_prf(average, modifier, msg_start, len(result))\n",
      "/home/vicente/anaconda3/envs/torch11/lib/python3.9/site-packages/sklearn/metrics/_classification.py:1469: UndefinedMetricWarning: Precision is ill-defined and being set to 0.0 due to no predicted samples. Use `zero_division` parameter to control this behavior.\n",
      "  _warn_prf(average, modifier, msg_start, len(result))\n",
      "/home/vicente/anaconda3/envs/torch11/lib/python3.9/site-packages/sklearn/metrics/_classification.py:1469: UndefinedMetricWarning: Precision is ill-defined and being set to 0.0 due to no predicted samples. Use `zero_division` parameter to control this behavior.\n",
      "  _warn_prf(average, modifier, msg_start, len(result))\n",
      "/home/vicente/anaconda3/envs/torch11/lib/python3.9/site-packages/sklearn/metrics/_classification.py:1469: UndefinedMetricWarning: Precision is ill-defined and being set to 0.0 due to no predicted samples. Use `zero_division` parameter to control this behavior.\n",
      "  _warn_prf(average, modifier, msg_start, len(result))\n",
      "/home/vicente/anaconda3/envs/torch11/lib/python3.9/site-packages/sklearn/metrics/_classification.py:1469: UndefinedMetricWarning: Precision is ill-defined and being set to 0.0 due to no predicted samples. Use `zero_division` parameter to control this behavior.\n",
      "  _warn_prf(average, modifier, msg_start, len(result))\n",
      "/home/vicente/anaconda3/envs/torch11/lib/python3.9/site-packages/sklearn/metrics/_classification.py:1469: UndefinedMetricWarning: Precision is ill-defined and being set to 0.0 due to no predicted samples. Use `zero_division` parameter to control this behavior.\n",
      "  _warn_prf(average, modifier, msg_start, len(result))\n",
      "/home/vicente/anaconda3/envs/torch11/lib/python3.9/site-packages/sklearn/metrics/_classification.py:1469: UndefinedMetricWarning: Precision is ill-defined and being set to 0.0 due to no predicted samples. Use `zero_division` parameter to control this behavior.\n",
      "  _warn_prf(average, modifier, msg_start, len(result))\n",
      "/home/vicente/anaconda3/envs/torch11/lib/python3.9/site-packages/sklearn/metrics/_classification.py:1469: UndefinedMetricWarning: Precision is ill-defined and being set to 0.0 due to no predicted samples. Use `zero_division` parameter to control this behavior.\n",
      "  _warn_prf(average, modifier, msg_start, len(result))\n",
      "/home/vicente/anaconda3/envs/torch11/lib/python3.9/site-packages/sklearn/metrics/_classification.py:1469: UndefinedMetricWarning: Precision is ill-defined and being set to 0.0 due to no predicted samples. Use `zero_division` parameter to control this behavior.\n",
      "  _warn_prf(average, modifier, msg_start, len(result))\n",
      "/home/vicente/anaconda3/envs/torch11/lib/python3.9/site-packages/sklearn/metrics/_classification.py:1469: UndefinedMetricWarning: Precision is ill-defined and being set to 0.0 due to no predicted samples. Use `zero_division` parameter to control this behavior.\n",
      "  _warn_prf(average, modifier, msg_start, len(result))\n",
      "/home/vicente/anaconda3/envs/torch11/lib/python3.9/site-packages/sklearn/metrics/_classification.py:1469: UndefinedMetricWarning: Precision is ill-defined and being set to 0.0 due to no predicted samples. Use `zero_division` parameter to control this behavior.\n",
      "  _warn_prf(average, modifier, msg_start, len(result))\n",
      "/home/vicente/anaconda3/envs/torch11/lib/python3.9/site-packages/sklearn/metrics/_classification.py:1469: UndefinedMetricWarning: Precision is ill-defined and being set to 0.0 due to no predicted samples. Use `zero_division` parameter to control this behavior.\n",
      "  _warn_prf(average, modifier, msg_start, len(result))\n"
     ]
    }
   ],
   "source": [
    "import pandas as pd\n",
    "\n",
    "data = pd.read_csv(\"predictions_full.csv\")\n",
    "prob_anthem = data[\"anthem_prob\"]\n",
    "hlas_non_acme = ['HLA-C*01:02', 'HLA-C*02:02', 'HLA-C*03:03',\n",
    " 'HLA-C*03:04', 'HLA-C*04:01', 'HLA-C*05:01' ,'HLA-C*06:02', 'HLA-C*07:01',\n",
    " 'HLA-C*07:02', 'HLA-C*07:04' ,'HLA-C*08:02', 'HLA-C*12:03', 'HLA-C*14:02',\n",
    " 'HLA-C*15:02', 'HLA-C*16:01','HLA-C*17:01',  \"HLA-A*02:50\", \"HLA-A*24:06\", \"HLA-A*24:13\", \"HLA-A*32:15\", \"HLA-B*45:06\", \"HLA-B*83:01\"]\n",
    "data_acme = data.loc[~(data['HLA'].isin(hlas_non_acme))]\n",
    "\n",
    "# obtiene la distribucion de las metricas por cada herramienta, recibe un df de un k-mer especifico\n",
    "def fill_metrics(data_by_kmer, data_by_kmer_acme):\n",
    "    hlas = data_by_kmer['HLA'].unique()\n",
    "    hlas_acme = data_by_kmer_acme['HLA'].unique()\n",
    "    \n",
    "    aucs_anthem, aucs_tape, aucs_esm2t6, aucs_netmhcpan, aucs_acme, aucs_mixmhcpred  = [], [], [], [], [], []\n",
    "    for hla in hlas:\n",
    "        data_by_kmer_hla = data_by_kmer[data_by_kmer['HLA'] == hla]\n",
    "        \n",
    "        metrics_anthem = get_metrics(data_by_kmer_hla['Label'], data_by_kmer_hla['anthem_pred'], data_by_kmer_hla['anthem_prob']) \n",
    "        metrics_tape = get_metrics(data_by_kmer_hla['Label'], data_by_kmer_hla['tape_pred'], data_by_kmer_hla['tape_prob']) \n",
    "        metrics_esm2t6 = get_metrics(data_by_kmer_hla['Label'], data_by_kmer_hla['esm2t6_pred'], data_by_kmer_hla['esm2t6_prob']) \n",
    "        metrics_netmhcpam = get_metrics(data_by_kmer_hla['Label'], data_by_kmer_hla['netmhcpan4.1_pred_SB'], data_by_kmer_hla['netmhcpan4.1_prob']) \n",
    "        metrics_mixmhcpred = get_metrics_mixmhcpred(data_by_kmer_hla['Label'], data_by_kmer_hla['mixmhcpred_pred'], data_by_kmer_hla['mixmhcpred_rank'])\n",
    "        #print(metrics)\n",
    "        aucs_anthem.append(metrics_anthem[\"auc\"])\n",
    "        aucs_tape.append(metrics_tape[\"auc\"])\n",
    "        aucs_esm2t6.append(metrics_esm2t6[\"auc\"])\n",
    "        aucs_netmhcpan.append(metrics_netmhcpam[\"auc\"])  \n",
    "        aucs_mixmhcpred.append(metrics_mixmhcpred[\"auc\"])  \n",
    "    \n",
    "    for hla in hlas_acme:\n",
    "        data_by_kmer_hla = data_by_kmer_acme[data_by_kmer_acme['HLA'] == hla]\n",
    "        metrics_acme = get_metrics(data_by_kmer_hla['Label'], data_by_kmer_hla['acme_pred'], data_by_kmer_hla['acme_prob']) \n",
    "        aucs_acme.append(metrics_acme[\"auc\"])  \n",
    "\n",
    "    return aucs_anthem, aucs_tape, aucs_esm2t6, aucs_netmhcpan, aucs_acme, aucs_mixmhcpred\n",
    "\n",
    "\n",
    "\n",
    "# k-mer\n",
    "total_aucs = {}\n",
    "for i in range(8,15):\n",
    "    data_by_kmer = data[data['Length'] == i] \n",
    "    data_by_kmer_acme = data_acme[data_acme['Length'] == i] \n",
    "    \n",
    "    # by HLA    \n",
    "    aucs_anthem, aucs_tape, aucs_esm2t6, aucs_netmhcpan, aucs_acme, aucs_mixmhcpred = fill_metrics(data_by_kmer, data_by_kmer_acme)\n",
    "    total_aucs[i] = [aucs_anthem, aucs_tape, aucs_esm2t6, aucs_netmhcpan, aucs_acme, aucs_mixmhcpred]\n",
    "    \n",
    "   \n"
   ]
  },
  {
   "cell_type": "code",
   "execution_count": 83,
   "metadata": {},
   "outputs": [
    {
     "data": {
      "text/plain": [
       "<Figure size 640x480 with 0 Axes>"
      ]
     },
     "metadata": {},
     "output_type": "display_data"
    }
   ],
   "source": [
    "for k in range(8,15):\n",
    "    # plotting\n",
    "    aucs_tape, aucs_esm2t6, aucs_anthem, aucs_netmhcpan, aucs_acme, aucs_mixmhcpred = total_aucs[k]\n",
    "    data = [aucs_tape, aucs_esm2t6, aucs_anthem, aucs_netmhcpan, aucs_acme, aucs_mixmhcpred]\n",
    "    labels = ['TAPE-gas', 'ESM2(t6)-fz', 'Anthem', 'NetMHCpan4.1', 'Acme', 'MixMHCpred2.2']\n",
    "    palette = ['r', 'g', 'y', 'b', '#FA70B5', '#0030D7']\n",
    "\n",
    "    plt.boxplot(data, labels=labels)\n",
    "    for i, val, c in zip(range(1,len(data)+1), data, palette):\n",
    "        x = np.random.normal(i, 0.04, size=len(val)) # jitter\n",
    "        plt.scatter(x, val, alpha=0.4, color=c)\n",
    "\n",
    "    plt.savefig(\"../plots/auc_distribution_\" + str(k) + \"-mer\", dpi=300, bbox_inches='tight')\n",
    "    plt.clf()\n",
    "    "
   ]
  },
  {
   "cell_type": "code",
   "execution_count": 12,
   "metadata": {},
   "outputs": [
    {
     "data": {
      "text/plain": [
       "<Figure size 640x480 with 0 Axes>"
      ]
     },
     "metadata": {},
     "output_type": "display_data"
    }
   ],
   "source": [
    "import seaborn as sns \n",
    "import matplotlib.pyplot as plt\n",
    "import pandas as pd\n",
    "import numpy as np\n",
    "\n",
    "for k in range(8,15):    \n",
    "    df = total_aucs[k]\n",
    "    df = df.melt(var_name='Tools',value_name='AUC')\n",
    "    sns.boxplot(x = \"Tools\", y = \"AUC\", data = df)\n",
    "    sns.stripplot(x = \"Tools\", y = \"AUC\", data = df)\n",
    "    plt.savefig(\"../plots/auc_distribution_\" + str(k) + \"-mer\", dpi=300, bbox_inches='tight')\n",
    "    plt.clf()"
   ]
  },
  {
   "cell_type": "code",
   "execution_count": 35,
   "metadata": {},
   "outputs": [
    {
     "data": {
      "image/png": "[encoded data removed]",
      "text/plain": [
       "<Figure size 640x480 with 1 Axes>"
      ]
     },
     "metadata": {},
     "output_type": "display_data"
    }
   ],
   "source": [
    "import numpy as np\n",
    "np.random.seed(10)\n",
    "data1 = np.random.normal(100, 10, 200)\n",
    "data2 = np.random.normal(90, 20, 200)\n",
    "data3 = np.random.normal(80, 30, 200)\n",
    "data = [data1, data2, data3]\n",
    "plt.boxplot(data, labels=['data1', 'data2', 'data3'])\n",
    "\n",
    "palette = ['r', 'g', 'y']\n",
    "for i, val, c in zip(range(1,len(data)+1), data, palette):\n",
    "    x = np.random.normal(i, 0.04, size=len(val)) # jitter\n",
    "    plt.scatter(x, val, alpha=0.4, color=c)\n",
    "plt.show()\n",
    "\n"
   ]
  },
  {
   "attachments": {},
   "cell_type": "markdown",
   "metadata": {},
   "source": [
    "# Boxplot distributions MixMHCpred"
   ]
  },
  {
   "cell_type": "code",
   "execution_count": 3,
   "metadata": {},
   "outputs": [
    {
     "name": "stdout",
     "output_type": "stream",
     "text": [
      "   id          HLA   peptide  Label  Length  \\\n",
      "0   1  HLA-A*01:01  LFGRDLSY      1       8   \n",
      "1   2  HLA-A*01:01  TDKKTHLY      1       8   \n",
      "2   3  HLA-A*01:01  RSDTPLIY      1       8   \n",
      "\n",
      "                                  mhc  mixmhcpred_score  mixmhcpred_rank  \n",
      "0  YFAMYQENMAHTDANTLYIIYRDYTWVARVYRGY         -1.768960         2.741370  \n",
      "1  YFAMYQENMAHTDANTLYIIYRDYTWVARVYRGY         -1.871118         3.238930  \n",
      "2  YFAMYQENMAHTDANTLYIIYRDYTWVARVYRGY          0.103419         0.079745  \n"
     ]
    }
   ],
   "source": [
    "import pandas as pd\n",
    "\n",
    "data = pd.read_csv(\"predictions_mixmhcpred.csv\")\n",
    "print(data.head(3))"
   ]
  },
  {
   "cell_type": "code",
   "execution_count": 6,
   "metadata": {},
   "outputs": [
    {
     "name": "stdout",
     "output_type": "stream",
     "text": [
      "98.5726\n",
      "0.001\n",
      "17.08436647698179\n"
     ]
    }
   ],
   "source": [
    "# see rank values\n",
    "print(max(data[\"mixmhcpred_rank\"]))\n",
    "print(min(data[\"mixmhcpred_rank\"]))\n",
    "print(sum(data[\"mixmhcpred_rank\"])/len(data[\"mixmhcpred_rank\"]))"
   ]
  },
  {
   "cell_type": "code",
   "execution_count": 15,
   "metadata": {},
   "outputs": [
    {
     "name": "stdout",
     "output_type": "stream",
     "text": [
      "Best Threshold: 3.3333333333333335\n",
      "Best F1-Score: 0.8821491290521619\n"
     ]
    }
   ],
   "source": [
    "# getting best threshold\n",
    "from sklearn.metrics import f1_score, precision_recall_curve\n",
    "import numpy as np\n",
    "\n",
    "# Assuming you have your predicted probabilities and true labels\n",
    "predicted_probs = data[\"mixmhcpred_rank\"]\n",
    "true_labels = data[\"Label\"]\n",
    "\n",
    "# Create a range of threshold values to evaluate\n",
    "# se establecio hasta 30, xq el promedio era 17 de las prob. Luego, al evaluar hasta 100, los resultados bajan\n",
    "thresholds = np.linspace(0, 30, 100)  # Adjust the number of thresholds as needed\n",
    "\n",
    "\n",
    "# Initialize variables to store best threshold and best F1-score\n",
    "best_threshold = None\n",
    "best_f1_score = 0\n",
    "\n",
    "# Iterate through thresholds and calculate F1-score for each\n",
    "for threshold in thresholds:\n",
    "    binary_predictions = (predicted_probs < threshold).astype(int) # los rank mas pequeños son mejores en mixmhcpred\n",
    "    f1 = f1_score(true_labels, binary_predictions)\n",
    "    \n",
    "    # Update best threshold if F1-score improves\n",
    "    if f1 > best_f1_score:\n",
    "        best_threshold = threshold\n",
    "        best_f1_score = f1\n",
    "\n",
    "print(\"Best Threshold:\", best_threshold)\n",
    "print(\"Best F1-Score:\", best_f1_score)"
   ]
  }
 ],
 "metadata": {
  "kernelspec": {
   "display_name": "torch11",
   "language": "python",
   "name": "python3"
  },
  "language_info": {
   "codemirror_mode": {
    "name": "ipython",
    "version": 3
   },
   "file_extension": ".py",
   "mimetype": "text/x-python",
   "name": "python",
   "nbconvert_exporter": "python",
   "pygments_lexer": "ipython3",
   "version": "3.9.16"
  },
  "orig_nbformat": 4
 },
 "nbformat": 4,
 "nbformat_minor": 2
}
