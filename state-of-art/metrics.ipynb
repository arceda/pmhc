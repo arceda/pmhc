{
 "cells": [
  {
   "cell_type": "code",
   "execution_count": 9,
   "metadata": {},
   "outputs": [
    {
     "name": "stdout",
     "output_type": "stream",
     "text": [
      "   id          HLA   peptide  Label  Length  \\\n",
      "0   1  HLA-A*01:01  LFGRDLSY      1       8   \n",
      "1   2  HLA-A*01:01  TDKKTHLY      1       8   \n",
      "2   3  HLA-A*01:01  RSDTPLIY      1       8   \n",
      "\n",
      "                                  mhc  anthem_pred  anthem_prob  esm2t6_pred  \\\n",
      "0  YFAMYQENMAHTDANTLYIIYRDYTWVARVYRGY            0        0.819            1   \n",
      "1  YFAMYQENMAHTDANTLYIIYRDYTWVARVYRGY            1        0.999            1   \n",
      "2  YFAMYQENMAHTDANTLYIIYRDYTWVARVYRGY            1        0.999            1   \n",
      "\n",
      "   esm2t6_prob  tape_pred  tape_prob  netmhcpan4.1_prob  netmhcpan4.1_rank  \\\n",
      "0     0.974380          1   0.876145           0.016228              3.731   \n",
      "1     0.998730          1   0.997400           0.938144              0.036   \n",
      "2     0.999896          1   0.996318           0.678749              0.165   \n",
      "\n",
      "  netmhcpan4.1_ligand  netmhcpan4.1_pred_SB_WB  netmhcpan4.1_pred_SB  \\\n",
      "0                   -                        0                     0   \n",
      "1                  SB                        1                     1   \n",
      "2                  SB                        1                     1   \n",
      "\n",
      "   acme_pred  acme_prob  \n",
      "0          0   0.083837  \n",
      "1          0   0.177621  \n",
      "2          1   0.764999  \n",
      "\n",
      "(143515, 19)\n",
      "['HLA-A*01:01' 'HLA-A*02:01' 'HLA-A*03:01' 'HLA-A*11:01' 'HLA-A*24:02'\n",
      " 'HLA-A*29:02' 'HLA-B*07:02' 'HLA-B*08:01' 'HLA-B*13:02' 'HLA-B*14:02'\n",
      " 'HLA-B*15:01' 'HLA-B*18:01' 'HLA-B*18:03' 'HLA-B*27:05' 'HLA-B*27:09'\n",
      " 'HLA-B*35:01' 'HLA-B*37:01' 'HLA-B*39:01' 'HLA-B*39:24' 'HLA-B*40:01'\n",
      " 'HLA-B*40:02' 'HLA-B*44:02' 'HLA-B*44:03' 'HLA-B*46:01' 'HLA-B*49:01'\n",
      " 'HLA-B*51:01' 'HLA-B*51:08' 'HLA-B*52:01' 'HLA-B*54:01' 'HLA-B*57:01'\n",
      " 'HLA-B*57:03' 'HLA-B*58:01' 'HLA-A*02:02' 'HLA-A*02:03' 'HLA-A*02:04'\n",
      " 'HLA-A*02:05' 'HLA-A*02:06' 'HLA-A*02:07' 'HLA-A*02:11' 'HLA-A*02:12'\n",
      " 'HLA-A*02:16' 'HLA-A*02:17' 'HLA-A*02:19' 'HLA-A*23:01' 'HLA-A*24:03'\n",
      " 'HLA-A*25:01' 'HLA-A*26:01' 'HLA-A*26:02' 'HLA-A*26:03' 'HLA-A*30:01'\n",
      " 'HLA-A*30:02' 'HLA-A*31:01' 'HLA-A*32:01' 'HLA-A*32:07' 'HLA-A*33:01'\n",
      " 'HLA-A*66:01' 'HLA-A*68:01' 'HLA-A*68:02' 'HLA-A*68:23' 'HLA-A*69:01'\n",
      " 'HLA-A*80:01' 'HLA-A*02:20' 'HLA-B*15:02' 'HLA-B*15:03' 'HLA-B*15:09'\n",
      " 'HLA-B*15:11' 'HLA-B*15:17' 'HLA-B*15:18' 'HLA-B*15:42' 'HLA-B*27:01'\n",
      " 'HLA-B*27:02' 'HLA-B*27:03' 'HLA-B*27:04' 'HLA-B*27:06' 'HLA-B*27:07'\n",
      " 'HLA-B*27:08' 'HLA-B*27:20' 'HLA-B*35:03' 'HLA-B*35:08' 'HLA-B*38:01'\n",
      " 'HLA-B*39:06' 'HLA-B*41:01' 'HLA-B*45:01' 'HLA-B*48:01' 'HLA-B*50:01'\n",
      " 'HLA-B*53:01' 'HLA-B*56:01' 'HLA-B*73:01' 'HLA-B*14:01' 'HLA-B*44:27']\n"
     ]
    }
   ],
   "source": [
    "# lee el csv con todas las predicciones y obtiene métricas\n",
    "import pandas as pd\n",
    "import numpy as np\n",
    "\n",
    "data = pd.read_csv(\"predictions_full.csv\")\n",
    "#data['netmhcpan4.1_pred_SB'] = data.apply(lambda row: (  1 if row['netmhcpan4.1_ligand'] == \"SB\" else 0  ), axis=1)\n",
    "#data.to_csv(\"predictions2.csv\", index=False)\n",
    "print(data.head(3))\n",
    "print()\n",
    "\n",
    "# para el caso de ACME, no utlizamos todo xq no teneia algunos HLA\n",
    "hlas_non_acme = ['HLA-C*01:02', 'HLA-C*02:02', 'HLA-C*03:03',\n",
    " 'HLA-C*03:04', 'HLA-C*04:01', 'HLA-C*05:01' ,'HLA-C*06:02', 'HLA-C*07:01',\n",
    " 'HLA-C*07:02', 'HLA-C*07:04' ,'HLA-C*08:02', 'HLA-C*12:03', 'HLA-C*14:02',\n",
    " 'HLA-C*15:02', 'HLA-C*16:01','HLA-C*17:01',  \"HLA-A*02:50\", \"HLA-A*24:06\", \"HLA-A*24:13\", \"HLA-A*32:15\", \"HLA-B*45:06\", \"HLA-B*83:01\"]\n",
    "data_acme = data.loc[~(data['HLA'].isin(hlas_non_acme))]\n",
    "print(data_acme.shape)\n",
    "print(data_acme['HLA'].unique())"
   ]
  },
  {
   "cell_type": "code",
   "execution_count": 21,
   "metadata": {},
   "outputs": [
    {
     "data": {
      "text/plain": [
       "<Figure size 640x480 with 0 Axes>"
      ]
     },
     "metadata": {},
     "output_type": "display_data"
    }
   ],
   "source": [
    "from sklearn.metrics import (\n",
    "    confusion_matrix,\n",
    "    accuracy_score,\n",
    "    precision_score,\n",
    "    recall_score,\n",
    "    f1_score,\n",
    "    roc_auc_score,\n",
    "    matthews_corrcoef\n",
    ")\n",
    "from sklearn.metrics import roc_auc_score\n",
    "import matplotlib.pyplot as plt\n",
    "import numpy as np\n",
    "\n",
    "def plot_metrics(metrics, file_name):\n",
    "    metrics_tape = metrics['tape']\n",
    "    metrics_esm2t6 = metrics['esm2']\n",
    "    metrics_anthem = metrics['anthem']\n",
    "    metrics_netmhcpan = metrics['netmhcpan4.1']\n",
    "    metrics_acme = metrics['acme']\n",
    "    # data from https://allisonhorst.github.io/palmerpenguins/\n",
    "    metrics = (\"AUC\", \"Accuracy\", \"Presicion\", \"Recall\", \"F1-score\", \"MCC\")\n",
    "    results = {\n",
    "        'Tape': (metrics_tape[\"auc\"], metrics_tape[\"accuracy\"], metrics_tape[\"precision\"], metrics_tape[\"recall\"], metrics_tape[\"f1score\"], metrics_tape[\"mcc\"]),\n",
    "        'ESM2-t6': (metrics_esm2t6[\"auc\"], metrics_esm2t6[\"accuracy\"], metrics_esm2t6[\"precision\"], metrics_esm2t6[\"recall\"], metrics_esm2t6[\"f1score\"], metrics_esm2t6[\"mcc\"]),\n",
    "        'Anthem': (metrics_anthem[\"auc\"], metrics_anthem[\"accuracy\"], metrics_anthem[\"precision\"], metrics_anthem[\"recall\"], metrics_anthem[\"f1score\"], metrics_anthem[\"mcc\"]),\n",
    "        'NetMHCpan4.1': (metrics_netmhcpan[\"auc\"], metrics_netmhcpan[\"accuracy\"], metrics_netmhcpan[\"precision\"], metrics_netmhcpan[\"recall\"], metrics_netmhcpan[\"f1score\"], metrics_netmhcpan[\"mcc\"]),\n",
    "        'Acme': (metrics_acme[\"auc\"], metrics_acme[\"accuracy\"], metrics_acme[\"precision\"], metrics_acme[\"recall\"], metrics_acme[\"f1score\"], metrics_acme[\"mcc\"]),\n",
    "    }\n",
    "\n",
    "    colors = {'Tape':'#104E8B', 'ESM2-t6':'#3F6D9B', 'Anthem':'#6E8DAB', 'NetMHCpan4.1':'#9DACBB', 'Acme':'#CCCCCC'}\n",
    "\n",
    "    x = np.arange(len(metrics))  # the label locations\n",
    "    width = 0.18  # the width of the bars\n",
    "    multiplier = 0\n",
    "\n",
    "    fig, ax = plt.subplots(layout='constrained')\n",
    "\n",
    "    for attribute, measurement in results.items():\n",
    "        offset = width * multiplier\n",
    "        rects = ax.bar(x + offset, measurement, width, label=attribute, color=colors[attribute])\n",
    "        #ax.bar_label(rects, padding=3) # agrega el valor arriba de cada barra\n",
    "        multiplier += 1\n",
    "\n",
    "    # Add some text for labels, title and custom x-axis tick labels, etc.\n",
    "    ax.set_ylabel('Metric value')\n",
    "    #ax.set_title('guin attributes by species')\n",
    "    ax.set_xticks(x + width, metrics)\n",
    "    ax.legend(loc='upper left', ncols=4)\n",
    "    ax.set_ylim(0, 1.2)\n",
    "\n",
    "    plt.savefig(\"../plots/\" + file_name, dpi=300, bbox_inches='tight')\n",
    "    plt.clf()\n",
    "\n",
    "def get_metrics(y_test, y_test_predictions, y_probs):\n",
    "    accuracy = accuracy_score(y_test, y_test_predictions)\n",
    "    precision = precision_score(y_test, y_test_predictions)\n",
    "    recall = recall_score(y_test, y_test_predictions)\n",
    "    f1score = f1_score(y_test, y_test_predictions)\n",
    "    #auc = roc_auc_score(y_test, y_test_predictions)\n",
    "    mcc = matthews_corrcoef(y_test, y_test_predictions)\n",
    "    conf_matrix = confusion_matrix(y_test, y_test_predictions)\n",
    "    auc = roc_auc_score(y_test, y_probs)\n",
    "\n",
    "    return {    \"accuracy\":accuracy, \n",
    "                \"precision\":precision, \n",
    "                \"recall\":recall, \n",
    "                \"f1score\":f1score, \n",
    "                \"auc\":auc,\n",
    "                \"mcc\":mcc, \n",
    "                \"conf_matrix\":conf_matrix}\n",
    "\n",
    "\n",
    "metrics_anthem = get_metrics(data[\"Label\"], data[\"anthem_pred\"], data[\"anthem_prob\"])\n",
    "metrics_netmhcpan = get_metrics(data[\"Label\"], data[\"netmhcpan4.1_pred_SB\"], data[\"netmhcpan4.1_prob\"])\n",
    "metrics_tape = get_metrics(data[\"Label\"], data[\"tape_pred\"], data[\"tape_prob\"])\n",
    "metrics_esm2t6 = get_metrics(data[\"Label\"], data[\"esm2t6_pred\"], data[\"esm2t6_prob\"])\n",
    "metrics_acme = get_metrics(data_acme[\"Label\"], data_acme[\"acme_pred\"], data_acme[\"acme_prob\"])\n",
    "#print(metrics_anthem)\n",
    "#print(metrics_netmhcpan)\n",
    "#print(metrics_tape)\n",
    "#print(metrics_esm2t6)\n",
    "#print(metrics_acme)\n",
    "\n",
    "plot_metrics({'tape':metrics_tape, 'anthem':metrics_anthem, 'acme':metrics_acme,\n",
    "              'netmhcpan4.1':metrics_netmhcpan, 'esm2':metrics_esm2t6}, \"metrics_comparison.png\")\n"
   ]
  },
  {
   "cell_type": "code",
   "execution_count": 18,
   "metadata": {},
   "outputs": [
    {
     "data": {
      "text/plain": [
       "<Figure size 640x480 with 0 Axes>"
      ]
     },
     "metadata": {},
     "output_type": "display_data"
    }
   ],
   "source": [
    "from sklearn import metrics\n",
    "from sklearn.linear_model import LogisticRegression\n",
    "from sklearn.model_selection import train_test_split\n",
    "from sklearn.datasets import load_breast_cancer\n",
    "import matplotlib.pyplot as plt\n",
    "\n",
    "def plot_ROC(data_pd, file_name, full=False):\n",
    "    y_test = data_pd[\"Label\"]\n",
    "    \n",
    "    if full: # cuando proceso todo, considero q acme no tiene todas las muestras\n",
    "        acme = data_acme[\"acme_prob\"]\n",
    "        y_test_acme = data_acme[\"Label\"]\n",
    "        fpr5, tpr5, _ = metrics.roc_curve(y_test_acme,  acme)\n",
    "        auc5 = metrics.roc_auc_score(y_test_acme, acme)\n",
    "    else: # cuando el por hla, no es neceario \n",
    "        acme = data_pd[\"acme_prob\"]\n",
    "        fpr5, tpr5, _ = metrics.roc_curve(y_test,  acme)\n",
    "        auc5 = metrics.roc_auc_score(y_test, acme)\n",
    "\n",
    "    \n",
    "    anthem = data_pd[\"anthem_prob\"]\n",
    "    esm2t6 = data_pd[\"esm2t6_prob\"]\n",
    "    tape = data_pd[\"tape_prob\"]\n",
    "    netmhcpan = data_pd[\"netmhcpan4.1_prob\"].astype(float)\n",
    "\n",
    "    fpr1, tpr1, _ = metrics.roc_curve(y_test,  anthem)\n",
    "    fpr2, tpr2, _ = metrics.roc_curve(y_test,  tape)\n",
    "    fpr3, tpr3, _ = metrics.roc_curve(y_test,  esm2t6)\n",
    "    fpr4, tpr4, _ = metrics.roc_curve(y_test,  netmhcpan)\n",
    "\n",
    "    auc1 = metrics.roc_auc_score(y_test, anthem)\n",
    "    auc2 = metrics.roc_auc_score(y_test, tape)\n",
    "    auc3 = metrics.roc_auc_score(y_test, esm2t6)\n",
    "    auc4 = metrics.roc_auc_score(y_test, netmhcpan)\n",
    "\n",
    "    plt.plot(fpr1,tpr1,label=\"Anthem, AUC=\"+str(round(auc1,3)))\n",
    "    plt.plot(fpr2,tpr2,label=\"TAPE, AUC=\"+str(round(auc2,3)))\n",
    "    plt.plot(fpr3,tpr3,label=\"ESM2-t6, AUC=\"+str(round(auc3,3)))\n",
    "    plt.plot(fpr4,tpr4,label=\"NetMHCpan4.1, AUC=\"+str(round(auc4,3)))\n",
    "    plt.plot(fpr5,tpr5,label=\"Acme, AUC=\"+str(round(auc5,3)))\n",
    "\n",
    "    plt.legend(loc=4)\n",
    "    plt.xlabel(\"False Positive Rate\")\n",
    "    plt.ylabel(\"True Positive Rate\")\n",
    "    #plt.show()\n",
    "    plt.savefig(\"../plots/\" + file_name, dpi=300, bbox_inches='tight')\n",
    "    plt.clf()\n",
    "\n",
    "plot_ROC(data, \"ROC_comparison.png\", True)"
   ]
  },
  {
   "attachments": {},
   "cell_type": "markdown",
   "metadata": {},
   "source": [
    "# Metrics Plots by HLA and peptide length"
   ]
  },
  {
   "attachments": {},
   "cell_type": "markdown",
   "metadata": {},
   "source": [
    "Aquí, obtendremos las métricas pero por peptide lenght y HLA. Hacemos esto porque otras investigaciones lo separarn así."
   ]
  },
  {
   "cell_type": "code",
   "execution_count": 22,
   "metadata": {},
   "outputs": [
    {
     "data": {
      "text/plain": [
       "<Figure size 640x480 with 0 Axes>"
      ]
     },
     "metadata": {},
     "output_type": "display_data"
    },
    {
     "data": {
      "text/plain": [
       "<Figure size 640x480 with 0 Axes>"
      ]
     },
     "metadata": {},
     "output_type": "display_data"
    },
    {
     "data": {
      "text/plain": [
       "<Figure size 640x480 with 0 Axes>"
      ]
     },
     "metadata": {},
     "output_type": "display_data"
    },
    {
     "data": {
      "text/plain": [
       "<Figure size 640x480 with 0 Axes>"
      ]
     },
     "metadata": {},
     "output_type": "display_data"
    },
    {
     "data": {
      "text/plain": [
       "<Figure size 640x480 with 0 Axes>"
      ]
     },
     "metadata": {},
     "output_type": "display_data"
    },
    {
     "data": {
      "text/plain": [
       "<Figure size 640x480 with 0 Axes>"
      ]
     },
     "metadata": {},
     "output_type": "display_data"
    },
    {
     "data": {
      "text/plain": [
       "<Figure size 640x480 with 0 Axes>"
      ]
     },
     "metadata": {},
     "output_type": "display_data"
    }
   ],
   "source": [
    "# lee el csv con todas las predicciones y obtiene métricas\n",
    "import pandas as pd\n",
    "import numpy as np\n",
    "\n",
    "data = pd.read_csv(\"predictions_full.csv\")\n",
    "#print(data.head(3))\n",
    "\n",
    "# group by peptide length (k-mer)\n",
    "data_grouped = []  # cada elemento es un dataframe. \n",
    "# Ex: data_list[0] contiene los datos de peptidos de longitud 8\n",
    "# Ex: data_list[1] contiene los datos de peptidos de longitud 9\n",
    "\n",
    "for i in range(8,15):\n",
    "    data_by_kmer = data[data['Length'] == i] \n",
    "    data_by_kmer_acme = data_acme[data_acme['Length'] == i] \n",
    "    data_grouped.append(data_by_kmer)\n",
    "    #peptides.to_csv(str(i) + \"-mer.csv\", index=False)\n",
    "    \n",
    "    metrics_anthem = get_metrics(data_by_kmer[\"Label\"], data_by_kmer[\"anthem_pred\"], data_by_kmer[\"anthem_prob\"])\n",
    "    metrics_netmhcpan = get_metrics(data_by_kmer[\"Label\"], data_by_kmer[\"netmhcpan4.1_pred_SB\"], data_by_kmer[\"netmhcpan4.1_prob\"])\n",
    "    metrics_tape = get_metrics(data_by_kmer[\"Label\"], data_by_kmer[\"tape_pred\"], data_by_kmer[\"tape_prob\"])\n",
    "    metrics_esm2t6 = get_metrics(data_by_kmer[\"Label\"], data_by_kmer[\"esm2t6_pred\"], data_by_kmer[\"esm2t6_prob\"])\n",
    "    metrics_acme = get_metrics(data_by_kmer_acme[\"Label\"], data_by_kmer_acme[\"acme_pred\"], data_by_kmer_acme[\"acme_prob\"])\n",
    "\n",
    "    plot_metrics({'tape':metrics_tape, 'anthem':metrics_anthem, 'acme':metrics_acme,\n",
    "              'netmhcpan4.1':metrics_netmhcpan, 'esm2':metrics_esm2t6}, \"metrics_comparison_\" + str(i) + \"mer.png\")\n",
    "    "
   ]
  },
  {
   "cell_type": "code",
   "execution_count": 20,
   "metadata": {},
   "outputs": [
    {
     "name": "stdout",
     "output_type": "stream",
     "text": [
      "8-mer (313, 19) shape--------\n",
      "9-mer (4251, 19) shape--------\n",
      "10-mer (1767, 19) shape--------\n",
      "11-mer (1169, 19) shape--------\n",
      "12-mer (1497, 19) shape--------\n",
      "13-mer (1013, 19) shape--------\n",
      "14-mer (761, 19) shape--------\n",
      "8-mer (35, 19) shape--------\n",
      "9-mer (2707, 19) shape--------\n",
      "10-mer (1177, 19) shape--------\n",
      "11-mer (467, 19) shape--------\n",
      "12-mer (125, 19) shape--------\n",
      "13-mer (37, 19) shape--------\n",
      "14-mer (0, 19) shape--------\n"
     ]
    },
    {
     "data": {
      "text/plain": [
       "<Figure size 640x480 with 0 Axes>"
      ]
     },
     "metadata": {},
     "output_type": "display_data"
    }
   ],
   "source": [
    "from sklearn import metrics\n",
    "from sklearn.linear_model import LogisticRegression\n",
    "from sklearn.model_selection import train_test_split\n",
    "from sklearn.datasets import load_breast_cancer\n",
    "import matplotlib.pyplot as plt\n",
    "\n",
    "#data_8_mer = data_grouped[0]\n",
    "#data_by_hla = data_8_mer[data_8_mer['HLA'] == \"HLA-A*11:01\"] # dividimos \n",
    "#data_by_hla = data_8_mer[data_8_mer['HLA'] == \"HLA-B*27:05\"] # dividimos \n",
    "#plot_ROC(data_by_hla)\n",
    "\n",
    "def plot_ROC_by_HLA(hla):\n",
    "    for i, data_k_mer in enumerate(data_grouped):\n",
    "        data_by_hla = data_k_mer[data_k_mer['HLA'] == hla] # dividimos \n",
    "        print(str(i+8)+\"-mer\", data_by_hla.shape, \"shape--------\")\n",
    "        file_name = \"ROC_\" + hla + \"_\" + str(i + 8) + \"-mer.png\"\n",
    "        #print(file_name)\n",
    "        if data_by_hla.shape[0] > 0:\n",
    "            plot_ROC(data_by_hla, file_name)\n",
    "\n",
    "plot_ROC_by_HLA(\"HLA-B*27:05\")\n",
    "plot_ROC_by_HLA(\"HLA-A*11:01\")"
   ]
  }
 ],
 "metadata": {
  "kernelspec": {
   "display_name": "torch11",
   "language": "python",
   "name": "python3"
  },
  "language_info": {
   "codemirror_mode": {
    "name": "ipython",
    "version": 3
   },
   "file_extension": ".py",
   "mimetype": "text/x-python",
   "name": "python",
   "nbconvert_exporter": "python",
   "pygments_lexer": "ipython3",
   "version": "3.10.12"
  },
  "orig_nbformat": 4
 },
 "nbformat": 4,
 "nbformat_minor": 2
}
