{
 "cells": [
  {
   "attachments": {},
   "cell_type": "markdown",
   "metadata": {},
   "source": [
    "# General metrics"
   ]
  },
  {
   "cell_type": "code",
   "execution_count": null,
   "metadata": {},
   "outputs": [],
   "source": [
    "# lee el csv con todas las predicciones y obtiene métricas\n",
    "import pandas as pd\n",
    "import numpy as np\n",
    "\n",
    "data = pd.read_csv(\"predictions_full.csv\")\n",
    "#data['netmhcpan4.1_pred_SB'] = data.apply(lambda row: (  1 if row['netmhcpan4.1_ligand'] == \"SB\" else 0  ), axis=1)\n",
    "#data.to_csv(\"predictions2.csv\", index=False)\n",
    "print(data.head(3))\n",
    "print()\n",
    "\n",
    "# para el caso de ACME, no utlizamos todo xq no teneia algunos HLA\n",
    "hlas_non_acme = ['HLA-C*01:02', 'HLA-C*02:02', 'HLA-C*03:03',\n",
    " 'HLA-C*03:04', 'HLA-C*04:01', 'HLA-C*05:01' ,'HLA-C*06:02', 'HLA-C*07:01',\n",
    " 'HLA-C*07:02', 'HLA-C*07:04' ,'HLA-C*08:02', 'HLA-C*12:03', 'HLA-C*14:02',\n",
    " 'HLA-C*15:02', 'HLA-C*16:01','HLA-C*17:01',  \"HLA-A*02:50\", \"HLA-A*24:06\", \"HLA-A*24:13\", \"HLA-A*32:15\", \"HLA-B*45:06\", \"HLA-B*83:01\"]\n",
    "data_acme = data.loc[~(data['HLA'].isin(hlas_non_acme))]\n",
    "print(data_acme.shape)\n",
    "print(data_acme['HLA'].unique())"
   ]
  },
  {
   "cell_type": "code",
   "execution_count": 21,
   "metadata": {},
   "outputs": [
    {
     "data": {
      "text/plain": [
       "<Figure size 640x480 with 0 Axes>"
      ]
     },
     "metadata": {},
     "output_type": "display_data"
    }
   ],
   "source": [
    "from sklearn.metrics import (\n",
    "    confusion_matrix,\n",
    "    accuracy_score,\n",
    "    precision_score,\n",
    "    recall_score,\n",
    "    f1_score,\n",
    "    roc_auc_score,\n",
    "    matthews_corrcoef\n",
    ")\n",
    "from sklearn.metrics import roc_auc_score\n",
    "import matplotlib.pyplot as plt\n",
    "import numpy as np\n",
    "\n",
    "def plot_metrics(metrics, file_name):\n",
    "    metrics_tape = metrics['tape']\n",
    "    metrics_esm2t6 = metrics['esm2']\n",
    "    metrics_anthem = metrics['anthem']\n",
    "    metrics_netmhcpan = metrics['netmhcpan4.1']\n",
    "    metrics_acme = metrics['acme']\n",
    "    # data from https://allisonhorst.github.io/palmerpenguins/\n",
    "    metrics = (\"AUC\", \"Accuracy\", \"Presicion\", \"Recall\", \"F1-score\", \"MCC\")\n",
    "    results = {\n",
    "        'Tape': (metrics_tape[\"auc\"], metrics_tape[\"accuracy\"], metrics_tape[\"precision\"], metrics_tape[\"recall\"], metrics_tape[\"f1score\"], metrics_tape[\"mcc\"]),\n",
    "        'ESM2-t6': (metrics_esm2t6[\"auc\"], metrics_esm2t6[\"accuracy\"], metrics_esm2t6[\"precision\"], metrics_esm2t6[\"recall\"], metrics_esm2t6[\"f1score\"], metrics_esm2t6[\"mcc\"]),\n",
    "        'Anthem': (metrics_anthem[\"auc\"], metrics_anthem[\"accuracy\"], metrics_anthem[\"precision\"], metrics_anthem[\"recall\"], metrics_anthem[\"f1score\"], metrics_anthem[\"mcc\"]),\n",
    "        'NetMHCpan4.1': (metrics_netmhcpan[\"auc\"], metrics_netmhcpan[\"accuracy\"], metrics_netmhcpan[\"precision\"], metrics_netmhcpan[\"recall\"], metrics_netmhcpan[\"f1score\"], metrics_netmhcpan[\"mcc\"]),\n",
    "        'Acme': (metrics_acme[\"auc\"], metrics_acme[\"accuracy\"], metrics_acme[\"precision\"], metrics_acme[\"recall\"], metrics_acme[\"f1score\"], metrics_acme[\"mcc\"]),\n",
    "    }\n",
    "\n",
    "    colors = {'Tape':'#104E8B', 'ESM2-t6':'#3F6D9B', 'Anthem':'#6E8DAB', 'NetMHCpan4.1':'#9DACBB', 'Acme':'#CCCCCC'}\n",
    "\n",
    "    x = np.arange(len(metrics))  # the label locations\n",
    "    width = 0.18  # the width of the bars\n",
    "    multiplier = 0\n",
    "\n",
    "    fig, ax = plt.subplots(layout='constrained')\n",
    "\n",
    "    for attribute, measurement in results.items():\n",
    "        offset = width * multiplier\n",
    "        rects = ax.bar(x + offset, measurement, width, label=attribute, color=colors[attribute])\n",
    "        #ax.bar_label(rects, padding=3) # agrega el valor arriba de cada barra\n",
    "        multiplier += 1\n",
    "\n",
    "    # Add some text for labels, title and custom x-axis tick labels, etc.\n",
    "    ax.set_ylabel('Metric value')\n",
    "    #ax.set_title('guin attributes by species')\n",
    "    ax.set_xticks(x + width, metrics)\n",
    "    ax.legend(loc='upper left', ncols=4)\n",
    "    ax.set_ylim(0, 1.2)\n",
    "\n",
    "    plt.savefig(\"../plots/\" + file_name, dpi=300, bbox_inches='tight')\n",
    "    plt.clf()\n",
    "\n",
    "def get_metrics(y_test, y_test_predictions, y_probs):\n",
    "    accuracy = accuracy_score(y_test, y_test_predictions)\n",
    "    precision = precision_score(y_test, y_test_predictions)\n",
    "    recall = recall_score(y_test, y_test_predictions)\n",
    "    f1score = f1_score(y_test, y_test_predictions)\n",
    "    #auc = roc_auc_score(y_test, y_test_predictions)\n",
    "    mcc = matthews_corrcoef(y_test, y_test_predictions)\n",
    "    conf_matrix = confusion_matrix(y_test, y_test_predictions)\n",
    "    auc = roc_auc_score(y_test, y_probs)\n",
    "\n",
    "    return {    \"accuracy\":accuracy, \n",
    "                \"precision\":precision, \n",
    "                \"recall\":recall, \n",
    "                \"f1score\":f1score, \n",
    "                \"auc\":auc,\n",
    "                \"mcc\":mcc, \n",
    "                \"conf_matrix\":conf_matrix}\n",
    "\n",
    "\n",
    "metrics_anthem = get_metrics(data[\"Label\"], data[\"anthem_pred\"], data[\"anthem_prob\"])\n",
    "metrics_netmhcpan = get_metrics(data[\"Label\"], data[\"netmhcpan4.1_pred_SB\"], data[\"netmhcpan4.1_prob\"])\n",
    "metrics_tape = get_metrics(data[\"Label\"], data[\"tape_pred\"], data[\"tape_prob\"])\n",
    "metrics_esm2t6 = get_metrics(data[\"Label\"], data[\"esm2t6_pred\"], data[\"esm2t6_prob\"])\n",
    "metrics_acme = get_metrics(data_acme[\"Label\"], data_acme[\"acme_pred\"], data_acme[\"acme_prob\"])\n",
    "#print(metrics_anthem)\n",
    "#print(metrics_netmhcpan)\n",
    "#print(metrics_tape)\n",
    "#print(metrics_esm2t6)\n",
    "#print(metrics_acme)\n",
    "\n",
    "plot_metrics({'tape':metrics_tape, 'anthem':metrics_anthem, 'acme':metrics_acme,\n",
    "              'netmhcpan4.1':metrics_netmhcpan, 'esm2':metrics_esm2t6}, \"metrics_comparison.png\")\n"
   ]
  },
  {
   "cell_type": "code",
   "execution_count": 18,
   "metadata": {},
   "outputs": [
    {
     "data": {
      "text/plain": [
       "<Figure size 640x480 with 0 Axes>"
      ]
     },
     "metadata": {},
     "output_type": "display_data"
    }
   ],
   "source": [
    "from sklearn import metrics\n",
    "from sklearn.linear_model import LogisticRegression\n",
    "from sklearn.model_selection import train_test_split\n",
    "from sklearn.datasets import load_breast_cancer\n",
    "import matplotlib.pyplot as plt\n",
    "\n",
    "def plot_ROC(data_pd, file_name, full=False):\n",
    "    y_test = data_pd[\"Label\"]\n",
    "    \n",
    "    if full: # cuando proceso todo, considero q acme no tiene todas las muestras\n",
    "        acme = data_acme[\"acme_prob\"]\n",
    "        y_test_acme = data_acme[\"Label\"]\n",
    "        fpr5, tpr5, _ = metrics.roc_curve(y_test_acme,  acme)\n",
    "        auc5 = metrics.roc_auc_score(y_test_acme, acme)\n",
    "    else: # cuando el por hla, no es neceario \n",
    "        acme = data_pd[\"acme_prob\"]\n",
    "        fpr5, tpr5, _ = metrics.roc_curve(y_test,  acme)\n",
    "        auc5 = metrics.roc_auc_score(y_test, acme)\n",
    "\n",
    "    \n",
    "    anthem = data_pd[\"anthem_prob\"]\n",
    "    esm2t6 = data_pd[\"esm2t6_prob\"]\n",
    "    tape = data_pd[\"tape_prob\"]\n",
    "    netmhcpan = data_pd[\"netmhcpan4.1_prob\"].astype(float)\n",
    "\n",
    "    fpr1, tpr1, _ = metrics.roc_curve(y_test,  anthem)\n",
    "    fpr2, tpr2, _ = metrics.roc_curve(y_test,  tape)\n",
    "    fpr3, tpr3, _ = metrics.roc_curve(y_test,  esm2t6)\n",
    "    fpr4, tpr4, _ = metrics.roc_curve(y_test,  netmhcpan)\n",
    "\n",
    "    auc1 = metrics.roc_auc_score(y_test, anthem)\n",
    "    auc2 = metrics.roc_auc_score(y_test, tape)\n",
    "    auc3 = metrics.roc_auc_score(y_test, esm2t6)\n",
    "    auc4 = metrics.roc_auc_score(y_test, netmhcpan)\n",
    "\n",
    "    plt.plot(fpr1,tpr1,label=\"Anthem, AUC=\"+str(round(auc1,3)))\n",
    "    plt.plot(fpr2,tpr2,label=\"TAPE, AUC=\"+str(round(auc2,3)))\n",
    "    plt.plot(fpr3,tpr3,label=\"ESM2-t6, AUC=\"+str(round(auc3,3)))\n",
    "    plt.plot(fpr4,tpr4,label=\"NetMHCpan4.1, AUC=\"+str(round(auc4,3)))\n",
    "    plt.plot(fpr5,tpr5,label=\"Acme, AUC=\"+str(round(auc5,3)))\n",
    "\n",
    "    plt.legend(loc=4)\n",
    "    plt.xlabel(\"False Positive Rate\")\n",
    "    plt.ylabel(\"True Positive Rate\")\n",
    "    #plt.show()\n",
    "    plt.savefig(\"../plots/\" + file_name, dpi=300, bbox_inches='tight')\n",
    "    plt.clf()\n",
    "\n",
    "plot_ROC(data, \"ROC_comparison.png\", True)"
   ]
  },
  {
   "attachments": {},
   "cell_type": "markdown",
   "metadata": {},
   "source": [
    "# Metrics Plots by HLA and peptide length"
   ]
  },
  {
   "attachments": {},
   "cell_type": "markdown",
   "metadata": {},
   "source": [
    "Aquí, obtendremos las métricas pero por peptide lenght y HLA. Hacemos esto porque otras investigaciones lo separarn así."
   ]
  },
  {
   "cell_type": "code",
   "execution_count": 22,
   "metadata": {},
   "outputs": [
    {
     "data": {
      "text/plain": [
       "<Figure size 640x480 with 0 Axes>"
      ]
     },
     "metadata": {},
     "output_type": "display_data"
    },
    {
     "data": {
      "text/plain": [
       "<Figure size 640x480 with 0 Axes>"
      ]
     },
     "metadata": {},
     "output_type": "display_data"
    },
    {
     "data": {
      "text/plain": [
       "<Figure size 640x480 with 0 Axes>"
      ]
     },
     "metadata": {},
     "output_type": "display_data"
    },
    {
     "data": {
      "text/plain": [
       "<Figure size 640x480 with 0 Axes>"
      ]
     },
     "metadata": {},
     "output_type": "display_data"
    },
    {
     "data": {
      "text/plain": [
       "<Figure size 640x480 with 0 Axes>"
      ]
     },
     "metadata": {},
     "output_type": "display_data"
    },
    {
     "data": {
      "text/plain": [
       "<Figure size 640x480 with 0 Axes>"
      ]
     },
     "metadata": {},
     "output_type": "display_data"
    },
    {
     "data": {
      "text/plain": [
       "<Figure size 640x480 with 0 Axes>"
      ]
     },
     "metadata": {},
     "output_type": "display_data"
    }
   ],
   "source": [
    "# lee el csv con todas las predicciones y obtiene métricas\n",
    "import pandas as pd\n",
    "import numpy as np\n",
    "\n",
    "data = pd.read_csv(\"predictions_full.csv\")\n",
    "#print(data.head(3))\n",
    "\n",
    "# group by peptide length (k-mer)\n",
    "data_grouped = []  # cada elemento es un dataframe. \n",
    "# Ex: data_list[0] contiene los datos de peptidos de longitud 8\n",
    "# Ex: data_list[1] contiene los datos de peptidos de longitud 9\n",
    "\n",
    "for i in range(8,15):\n",
    "    data_by_kmer = data[data['Length'] == i] \n",
    "    data_by_kmer_acme = data_acme[data_acme['Length'] == i] \n",
    "    data_grouped.append(data_by_kmer)\n",
    "    #peptides.to_csv(str(i) + \"-mer.csv\", index=False)\n",
    "    \n",
    "    metrics_anthem = get_metrics(data_by_kmer[\"Label\"], data_by_kmer[\"anthem_pred\"], data_by_kmer[\"anthem_prob\"])\n",
    "    metrics_netmhcpan = get_metrics(data_by_kmer[\"Label\"], data_by_kmer[\"netmhcpan4.1_pred_SB\"], data_by_kmer[\"netmhcpan4.1_prob\"])\n",
    "    metrics_tape = get_metrics(data_by_kmer[\"Label\"], data_by_kmer[\"tape_pred\"], data_by_kmer[\"tape_prob\"])\n",
    "    metrics_esm2t6 = get_metrics(data_by_kmer[\"Label\"], data_by_kmer[\"esm2t6_pred\"], data_by_kmer[\"esm2t6_prob\"])\n",
    "    metrics_acme = get_metrics(data_by_kmer_acme[\"Label\"], data_by_kmer_acme[\"acme_pred\"], data_by_kmer_acme[\"acme_prob\"])\n",
    "\n",
    "    plot_metrics({'tape':metrics_tape, 'anthem':metrics_anthem, 'acme':metrics_acme,\n",
    "              'netmhcpan4.1':metrics_netmhcpan, 'esm2':metrics_esm2t6}, \"metrics_comparison_\" + str(i) + \"mer.png\")\n",
    "    "
   ]
  },
  {
   "cell_type": "code",
   "execution_count": 20,
   "metadata": {},
   "outputs": [
    {
     "name": "stdout",
     "output_type": "stream",
     "text": [
      "8-mer (313, 19) shape--------\n",
      "9-mer (4251, 19) shape--------\n",
      "10-mer (1767, 19) shape--------\n",
      "11-mer (1169, 19) shape--------\n",
      "12-mer (1497, 19) shape--------\n",
      "13-mer (1013, 19) shape--------\n",
      "14-mer (761, 19) shape--------\n",
      "8-mer (35, 19) shape--------\n",
      "9-mer (2707, 19) shape--------\n",
      "10-mer (1177, 19) shape--------\n",
      "11-mer (467, 19) shape--------\n",
      "12-mer (125, 19) shape--------\n",
      "13-mer (37, 19) shape--------\n",
      "14-mer (0, 19) shape--------\n"
     ]
    },
    {
     "data": {
      "text/plain": [
       "<Figure size 640x480 with 0 Axes>"
      ]
     },
     "metadata": {},
     "output_type": "display_data"
    }
   ],
   "source": [
    "from sklearn import metrics\n",
    "from sklearn.linear_model import LogisticRegression\n",
    "from sklearn.model_selection import train_test_split\n",
    "from sklearn.datasets import load_breast_cancer\n",
    "import matplotlib.pyplot as plt\n",
    "\n",
    "#data_8_mer = data_grouped[0]\n",
    "#data_by_hla = data_8_mer[data_8_mer['HLA'] == \"HLA-A*11:01\"] # dividimos \n",
    "#data_by_hla = data_8_mer[data_8_mer['HLA'] == \"HLA-B*27:05\"] # dividimos \n",
    "#plot_ROC(data_by_hla)\n",
    "\n",
    "def plot_ROC_by_HLA(hla):\n",
    "    for i, data_k_mer in enumerate(data_grouped):\n",
    "        data_by_hla = data_k_mer[data_k_mer['HLA'] == hla] # dividimos \n",
    "        print(str(i+8)+\"-mer\", data_by_hla.shape, \"shape--------\")\n",
    "        file_name = \"ROC_\" + hla + \"_\" + str(i + 8) + \"-mer.png\"\n",
    "        #print(file_name)\n",
    "        if data_by_hla.shape[0] > 0:\n",
    "            plot_ROC(data_by_hla, file_name)\n",
    "\n",
    "plot_ROC_by_HLA(\"HLA-B*27:05\")\n",
    "plot_ROC_by_HLA(\"HLA-A*11:01\")"
   ]
  },
  {
   "attachments": {},
   "cell_type": "markdown",
   "metadata": {},
   "source": [
    "# Boxplot distributions"
   ]
  },
  {
   "cell_type": "code",
   "execution_count": 3,
   "metadata": {},
   "outputs": [
    {
     "name": "stdout",
     "output_type": "stream",
     "text": [
      "   id          HLA   peptide  Label  Length  \\\n",
      "0   1  HLA-A*01:01  LFGRDLSY      1       8   \n",
      "1   2  HLA-A*01:01  TDKKTHLY      1       8   \n",
      "2   3  HLA-A*01:01  RSDTPLIY      1       8   \n",
      "\n",
      "                                  mhc  mixmhcpred_score  mixmhcpred_rank  \n",
      "0  YFAMYQENMAHTDANTLYIIYRDYTWVARVYRGY         -1.768960         2.741370  \n",
      "1  YFAMYQENMAHTDANTLYIIYRDYTWVARVYRGY         -1.871118         3.238930  \n",
      "2  YFAMYQENMAHTDANTLYIIYRDYTWVARVYRGY          0.103419         0.079745  \n"
     ]
    }
   ],
   "source": [
    "import pandas as pd\n",
    "\n",
    "data = pd.read_csv(\"predictions_mixmhcpred.csv\")\n",
    "print(data.head(3))"
   ]
  },
  {
   "cell_type": "code",
   "execution_count": 6,
   "metadata": {},
   "outputs": [
    {
     "name": "stdout",
     "output_type": "stream",
     "text": [
      "98.5726\n",
      "0.001\n",
      "17.08436647698179\n"
     ]
    }
   ],
   "source": [
    "# see rank values\n",
    "print(max(data[\"mixmhcpred_rank\"]))\n",
    "print(min(data[\"mixmhcpred_rank\"]))\n",
    "print(sum(data[\"mixmhcpred_rank\"])/len(data[\"mixmhcpred_rank\"]))"
   ]
  },
  {
   "cell_type": "code",
   "execution_count": 15,
   "metadata": {},
   "outputs": [
    {
     "name": "stdout",
     "output_type": "stream",
     "text": [
      "Best Threshold: 3.3333333333333335\n",
      "Best F1-Score: 0.8821491290521619\n"
     ]
    }
   ],
   "source": [
    "# getting best threshold\n",
    "from sklearn.metrics import f1_score, precision_recall_curve\n",
    "import numpy as np\n",
    "\n",
    "# Assuming you have your predicted probabilities and true labels\n",
    "predicted_probs = data[\"mixmhcpred_rank\"]\n",
    "true_labels = data[\"Label\"]\n",
    "\n",
    "# Create a range of threshold values to evaluate\n",
    "# se establecio hasta 30, xq el promedio era 17 de las prob. Luego, al evaluar hasta 100, los resultados bajan\n",
    "thresholds = np.linspace(0, 30, 100)  # Adjust the number of thresholds as needed\n",
    "\n",
    "\n",
    "# Initialize variables to store best threshold and best F1-score\n",
    "best_threshold = None\n",
    "best_f1_score = 0\n",
    "\n",
    "# Iterate through thresholds and calculate F1-score for each\n",
    "for threshold in thresholds:\n",
    "    binary_predictions = (predicted_probs < threshold).astype(int) # los rank mas pequeños son mejores en mixmhcpred\n",
    "    f1 = f1_score(true_labels, binary_predictions)\n",
    "    \n",
    "    # Update best threshold if F1-score improves\n",
    "    if f1 > best_f1_score:\n",
    "        best_threshold = threshold\n",
    "        best_f1_score = f1\n",
    "\n",
    "print(\"Best Threshold:\", best_threshold)\n",
    "print(\"Best F1-Score:\", best_f1_score)"
   ]
  },
  {
   "cell_type": "code",
   "execution_count": 17,
   "metadata": {},
   "outputs": [
    {
     "name": "stdout",
     "output_type": "stream",
     "text": [
      "[0.0, 0.7703182210158757, 0.8217270755989984, 0.8455609030793911, 0.8595949017905036, 0.8680419369437321, 0.8732058604420164, 0.8769987171381746, 0.8794038269833937, 0.8810902321322064, 0.8816039596858075, 0.8821491290521619, 0.8817766781538099, 0.8814261877579695, 0.8809185881477, 0.879742772711238, 0.8786274070113098, 0.8775093627605135, 0.8765747370935544, 0.8753564477436292, 0.8738812317293665, 0.872234398560514, 0.8708320314243628, 0.8694033582628601, 0.8678422628104754, 0.8660415197461212, 0.8645055765346448, 0.8627320193543097, 0.8609164038799841, 0.8593472776104826, 0.8578177533215857, 0.8562365359758725, 0.8548014018064627, 0.8532004107479034, 0.8512928163843765, 0.8492945635211313, 0.8475515893377625, 0.8458796481829112, 0.8440879994113752, 0.842207244714668, 0.8403279766595859, 0.8386455634293801, 0.8368971615573315, 0.8351213156792696, 0.8333084183449919, 0.8316742127956994, 0.8300339757813661, 0.8282910874897792, 0.826535135768625, 0.8250262955980915, 0.8235258346340177, 0.8221118125439097, 0.8206309676248476, 0.8189442773961926, 0.8174029934593315, 0.8160117701223052, 0.8144938677102623, 0.8130664276466486, 0.8115626692100962, 0.8102364858167979, 0.8088249836830759, 0.8075848933713599, 0.806086233121828, 0.8047997013693786, 0.803741249828428, 0.8024242068499986, 0.8010621473338929, 0.799487788727457, 0.7979854885238896, 0.7965444731920501, 0.7951836347992537, 0.7939553549034363, 0.792615550464897, 0.7914141656662665, 0.7900708132504144, 0.7888282792547724, 0.787563876841156, 0.7863466016504841, 0.785125695005465, 0.7839043938064638, 0.7826329789751696, 0.7813428429728645, 0.7802157391517529, 0.7790032372205075, 0.7778811019997934, 0.776810914717052, 0.7756821266438901, 0.7745501093192309, 0.7734708724281371, 0.7724037114112394, 0.7713206214361067, 0.7701157423514948, 0.7690013660885874, 0.7679356494001803, 0.7669279127087429, 0.765868809850782, 0.7648401196227282, 0.763859030189442, 0.7628569987112043, 0.7618467569102266]\n"
     ]
    },
    {
     "data": {
      "image/png": "[encoded data removed]",
      "text/plain": [
       "<Figure size 800x600 with 1 Axes>"
      ]
     },
     "metadata": {},
     "output_type": "display_data"
    },
    {
     "name": "stdout",
     "output_type": "stream",
     "text": [
      "0.06135054502312988\n"
     ]
    }
   ],
   "source": [
    "# getting AUC values\n",
    "from sklearn.metrics import roc_auc_score, roc_curve\n",
    "import numpy as np\n",
    "\n",
    "# Assuming you have your predicted probabilities and true labels\n",
    "predicted_probs = data[\"mixmhcpred_rank\"]\n",
    "true_labels = data[\"Label\"]\n",
    "\n",
    "thresholds = np.linspace(0, 30, 100)  # Define the thresholds you want to evaluate\n",
    "\n",
    "f1_values = []  # To store AUC values for each threshold\n",
    "\n",
    "for threshold in thresholds:\n",
    "    binary_predictions = (predicted_probs < threshold).astype(int)\n",
    "    f1 = f1_score(true_labels, binary_predictions)\n",
    "    #auc = roc_auc_score(true_labels, binary_predictions)\n",
    "    f1_values.append(f1)\n",
    "\n",
    "# Print or analyze the AUC values for different thresholds\n",
    "print(f1_values)\n",
    "\n",
    "import matplotlib.pyplot as plt\n",
    "\n",
    "# Assuming you have a list or array of AUC values named 'auc_values'\n",
    "plt.figure(figsize=(8, 6))\n",
    "plt.boxplot(f1_values)\n",
    "plt.title('Distribution of F1')\n",
    "plt.ylabel('F1 Values')\n",
    "plt.show()\n",
    "plt.clf()\n",
    "\n",
    "auc = roc_auc_score(true_labels, predicted_probs)\n",
    "print(auc)"
   ]
  },
  {
   "cell_type": "code",
   "execution_count": 24,
   "metadata": {},
   "outputs": [
    {
     "name": "stdout",
     "output_type": "stream",
     "text": [
      "  Tools        F1\n",
      "0   Mix  0.000000\n",
      "1   Mix  0.770318\n",
      "2   Mix  0.821727\n",
      "3   Mix  0.845561\n",
      "4   Mix  0.859595\n"
     ]
    },
    {
     "data": {
      "text/plain": [
       "<Axes: xlabel='Tools', ylabel='F1'>"
      ]
     },
     "execution_count": 24,
     "metadata": {},
     "output_type": "execute_result"
    },
    {
     "data": {
      "image/png": "[encoded data removed]",
      "text/plain": [
       "<Figure size 640x480 with 1 Axes>"
      ]
     },
     "metadata": {},
     "output_type": "display_data"
    }
   ],
   "source": [
    "import seaborn as sns \n",
    "import matplotlib.pyplot as plt\n",
    "import pandas as pd\n",
    "import numpy as np\n",
    "\n",
    "df = pd.DataFrame()\n",
    "df[\"Mix\"] = f1_values\n",
    "df[\"Mix2\"] = f1_values\n",
    "df[\"Mix3\"] = f1_values\n",
    "df = df.melt(var_name='Tools',value_name='F1')\n",
    "print(df.head())\n",
    "\n",
    "sns.boxplot(x = \"Tools\",\n",
    "            y = \"F1\",\n",
    "            data = df)\n",
    "sns.stripplot(x = \"Tools\",\n",
    "              y = \"F1\",\n",
    "              data = df)"
   ]
  }
 ],
 "metadata": {
  "kernelspec": {
   "display_name": "torch11",
   "language": "python",
   "name": "python3"
  },
  "language_info": {
   "codemirror_mode": {
    "name": "ipython",
    "version": 3
   },
   "file_extension": ".py",
   "mimetype": "text/x-python",
   "name": "python",
   "nbconvert_exporter": "python",
   "pygments_lexer": "ipython3",
   "version": "3.9.16"
  },
  "orig_nbformat": 4
 },
 "nbformat": 4,
 "nbformat_minor": 2
}
